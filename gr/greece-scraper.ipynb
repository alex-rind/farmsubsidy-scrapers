{
 "cells": [
  {
   "cell_type": "code",
   "execution_count": 70,
   "metadata": {
    "collapsed": true
   },
   "outputs": [],
   "source": [
    "import re\n",
    "\n",
    "import requests\n",
    "\n",
    "from lxml import html\n",
    "import pandas as pd\n",
    "\n",
    "from slugify import slugify"
   ]
  },
  {
   "cell_type": "code",
   "execution_count": 75,
   "metadata": {
    "collapsed": true
   },
   "outputs": [],
   "source": [
    "AMOUNT_RE = re.compile('^([-\\d\\.]+)')"
   ]
  },
  {
   "cell_type": "code",
   "execution_count": 79,
   "metadata": {
    "collapsed": true
   },
   "outputs": [],
   "source": [
    "cookies = {\n",
    "    'ope_csrf_': '2d17ee8adc7dfbb0e40fec0ecd0e6617',\n",
    "    'session': '9dd2ccac006f719b658e6f0e69ace726f6eec1b8',\n",
    "}\n",
    "\n",
    "headers = {\n",
    "    'Origin': 'https://transpay.opekepe.gr',\n",
    "    'Accept-Encoding': 'gzip, deflate',\n",
    "    'Accept-Language': 'en-US,en;q=0.8,de;q=0.6',\n",
    "    'User-Agent': 'Mozilla/5.0 (Macintosh; Intel Mac OS X 10_11_4) AppleWebKit/537.36 (KHTML, like Gecko) Chrome/50.0.2661.94 Safari/537.36',\n",
    "    'Content-Type': 'application/x-www-form-urlencoded; charset=UTF-8',\n",
    "    'Accept': 'application/json, text/javascript, */*; q=0.01',\n",
    "    'Referer': 'https://transpay.opekepe.gr/',\n",
    "    'X-Requested-With': 'XMLHttpRequest',\n",
    "    'Connection': 'keep-alive',\n",
    "    'DNT': '1',\n",
    "}\n",
    "\n",
    "LIMIT = 5000\n",
    "YEAR = 2014\n",
    "\n",
    "data = {'upper': ['-1'], 'lower': ['-1'], 'total_rows': ['1074916'],\n",
    "        'csrf_token_': ['2d17ee8adc7dfbb0e40fec0ecd0e6617'], 'submit': ['1'],\n",
    "        'limit': [str(LIMIT)], 'year': [str(YEAR), str(YEAR)]}"
   ]
  },
  {
   "cell_type": "code",
   "execution_count": 81,
   "metadata": {
    "collapsed": false
   },
   "outputs": [],
   "source": [
    "def get_rows_starting(start_row):\n",
    "    response = requests.post('https://transpay.opekepe.gr/welcome/search/%s' % start_row,\n",
    "                             headers=headers, cookies=cookies, data=data)\n",
    "    root = html.fromstring(response.content.decode('unicode-escape'))\n",
    "    for tr in root.xpath('.//table/tbody/tr'):\n",
    "        tds = [td.text_content() for td in tr.xpath('./td')]\n",
    "        if 'No results' in tds[1]:\n",
    "            break\n",
    "        yield {\n",
    "            'recipient_id': 'GR-%s-%s' % (YEAR, tds[0]),\n",
    "            'recipient_name': tds[1] if not tds[1].startswith('ANONYMOUS') else '',\n",
    "            'recipient_location': tds[2],\n",
    "            'scheme': '%s (%s)' % (tds[3], tds[4]),\n",
    "            'amount': float(AMOUNT_RE.search(tds[5]).group(1))\n",
    "        }"
   ]
  },
  {
   "cell_type": "code",
   "execution_count": 62,
   "metadata": {
    "collapsed": true
   },
   "outputs": [],
   "source": [
    "def get_all_rows():\n",
    "    start_row = 1\n",
    "    while True:\n",
    "        print('Starting row %d' % start_row)\n",
    "        row_count = 0\n",
    "        for row in get_rows_starting(start_row):\n",
    "            row_count += 1\n",
    "            yield row\n",
    "        if row_count == 0:\n",
    "            break\n",
    "        start_row += row_count"
   ]
  },
  {
   "cell_type": "code",
   "execution_count": 82,
   "metadata": {
    "collapsed": false
   },
   "outputs": [
    {
     "name": "stdout",
     "output_type": "stream",
     "text": [
      "Starting row 1\n",
      "> <ipython-input-81-fcd4b6322d95>(5)get_rows_starting()\n",
      "-> root = html.fromstring(response.content.decode('unicode-escape'))\n",
      "(Pdb) response.text\n",
      "u''\n",
      "(Pdb) c\n"
     ]
    },
    {
     "ename": "XMLSyntaxError",
     "evalue": "line 1093: Invalid char in CDATA 0x0",
     "output_type": "error",
     "traceback": [
      "\u001b[0;36m  File \u001b[0;32m\"<string>\"\u001b[0;36m, line \u001b[0;32munknown\u001b[0m\n\u001b[0;31mXMLSyntaxError\u001b[0m\u001b[0;31m:\u001b[0m line 1093: Invalid char in CDATA 0x0\n"
     ]
    }
   ],
   "source": [
    "df = pd.DataFrame(get_all_rows())\n",
    "df.head()"
   ]
  }
 ],
 "metadata": {
  "kernelspec": {
   "display_name": "Python 2",
   "language": "python",
   "name": "python2"
  },
  "language_info": {
   "codemirror_mode": {
    "name": "ipython",
    "version": 2
   },
   "file_extension": ".py",
   "mimetype": "text/x-python",
   "name": "python",
   "nbconvert_exporter": "python",
   "pygments_lexer": "ipython2",
   "version": "2.7.11"
  }
 },
 "nbformat": 4,
 "nbformat_minor": 0
}
