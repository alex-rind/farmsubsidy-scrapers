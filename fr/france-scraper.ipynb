{
 "cells": [
  {
   "cell_type": "code",
   "execution_count": 4,
   "metadata": {
    "collapsed": false
   },
   "outputs": [
    {
     "name": "stdout",
     "output_type": "stream",
     "text": [
      "  % Total    % Received % Xferd  Average Speed   Time    Time     Time  Current\n",
      "                                 Dload  Upload   Total   Spent    Left  Speed\n",
      "100 72.7M    0 72.7M  100  1070  2234k     32  0:00:33  0:00:33 --:--:-- 2135k\n"
     ]
    }
   ],
   "source": [
    "!curl 'https://www.telepac.agriculture.gouv.fr/telepac/tbp/feader/exportlistebeneficiaires.action' \\\n",
    "    -H 'Origin: https://www.telepac.agriculture.gouv.fr' \\\n",
    "    -H 'Accept-Encoding: gzip, deflate' \\\n",
    "    -H 'Accept-Language: en-US,en;q=0.8,de;q=0.6' \\\n",
    "    -H 'Content-Type: multipart/form-data; boundary=----WebKitFormBoundaryNirZXEmQej1tmwcp' \\\n",
    "    -H 'Accept: text/html,application/xhtml+xml,application/xml;q=0.9,image/webp,*/*;q=0.8' \\\n",
    "    -H 'Cache-Control: max-age=0' \\\n",
    "    -H 'Referer: https://www.telepac.agriculture.gouv.fr/telepac/tbp/feader/afficher.action' \\\n",
    "    -H 'Connection: keep-alive' -H 'DNT: 1' \\\n",
    "    --data-binary $'------WebKitFormBoundaryNirZXEmQej1tmwcp\\r\\nContent-Disposition: form-data; name=\"page\"\\r\\n\\r\\n0\\r\\n------WebKitFormBoundaryNirZXEmQej1tmwcp\\r\\nContent-Disposition: form-data; name=\"nbResultats\"\\r\\n\\r\\n\\r\\n------WebKitFormBoundaryNirZXEmQej1tmwcp\\r\\nContent-Disposition: form-data; name=\"isCompter\"\\r\\n\\r\\nfalse\\r\\n------WebKitFormBoundaryNirZXEmQej1tmwcp\\r\\nContent-Disposition: form-data; name=\"afficherResultatsAction\"\\r\\n\\r\\nafficherResultats.action\\r\\n------WebKitFormBoundaryNirZXEmQej1tmwcp\\r\\nContent-Disposition: form-data; name=\"rechercheExploitant.campagne\"\\r\\n\\r\\n2015\\r\\n------WebKitFormBoundaryNirZXEmQej1tmwcp\\r\\nContent-Disposition: form-data; name=\"rechercheExploitant.nomRaisonSociale\"\\r\\n\\r\\n\\r\\n------WebKitFormBoundaryNirZXEmQej1tmwcp\\r\\nContent-Disposition: form-data; name=\"rechercheExploitant.libelleCommune\"\\r\\n\\r\\n\\r\\n------WebKitFormBoundaryNirZXEmQej1tmwcp\\r\\nContent-Disposition: form-data; name=\"rechercheExploitant.codePostal\"\\r\\n\\r\\n\\r\\n------WebKitFormBoundaryNirZXEmQej1tmwcp\\r\\nContent-Disposition: form-data; name=\"rechercheExploitant.codeRubrique\"\\r\\n\\r\\n-1\\r\\n------WebKitFormBoundaryNirZXEmQej1tmwcp--\\r\\n' \\\n",
    "    --compressed > france_2014_raw.csv"
   ]
  },
  {
   "cell_type": "code",
   "execution_count": 5,
   "metadata": {
    "collapsed": true
   },
   "outputs": [],
   "source": [
    "import pandas as pd"
   ]
  },
  {
   "cell_type": "code",
   "execution_count": 9,
   "metadata": {
    "collapsed": false
   },
   "outputs": [
    {
     "data": {
      "text/html": [
       "<div>\n",
       "<table border=\"1\" class=\"dataframe\">\n",
       "  <thead>\n",
       "    <tr style=\"text-align: right;\">\n",
       "      <th></th>\n",
       "      <th>Nom / Raison sociale</th>\n",
       "      <th>Commune</th>\n",
       "      <th>Code postal</th>\n",
       "      <th>Libellé rubrique</th>\n",
       "      <th>Montant rubrique</th>\n",
       "    </tr>\n",
       "  </thead>\n",
       "  <tbody>\n",
       "    <tr>\n",
       "      <th>0</th>\n",
       "      <td>XXX</td>\n",
       "      <td>XXX</td>\n",
       "      <td>01XXX</td>\n",
       "      <td>III.4 - Aide lait à l'école</td>\n",
       "      <td>385,41</td>\n",
       "    </tr>\n",
       "    <tr>\n",
       "      <th>1</th>\n",
       "      <td>XXX</td>\n",
       "      <td>XXX</td>\n",
       "      <td>01XXX</td>\n",
       "      <td>III.4 - Aide lait à l'école</td>\n",
       "      <td>1199,58</td>\n",
       "    </tr>\n",
       "    <tr>\n",
       "      <th>2</th>\n",
       "      <td>XXX</td>\n",
       "      <td>XXX</td>\n",
       "      <td>01XXX</td>\n",
       "      <td>III.4 - Aide lait à l'école</td>\n",
       "      <td>305,47</td>\n",
       "    </tr>\n",
       "    <tr>\n",
       "      <th>3</th>\n",
       "      <td>XXX</td>\n",
       "      <td>XXX</td>\n",
       "      <td>01XXX</td>\n",
       "      <td>III.4 - Aide lait à l'école</td>\n",
       "      <td>700,95</td>\n",
       "    </tr>\n",
       "    <tr>\n",
       "      <th>4</th>\n",
       "      <td>XXX</td>\n",
       "      <td>XXX</td>\n",
       "      <td>01XXX</td>\n",
       "      <td>III.4 - Aide lait à l'école</td>\n",
       "      <td>354,21</td>\n",
       "    </tr>\n",
       "  </tbody>\n",
       "</table>\n",
       "</div>"
      ],
      "text/plain": [
       "  Nom / Raison sociale  Commune  Code postal             Libellé rubrique  \\\n",
       "0                  XXX      XXX        01XXX  III.4 - Aide lait à l'école   \n",
       "1                  XXX      XXX        01XXX  III.4 - Aide lait à l'école   \n",
       "2                  XXX      XXX        01XXX  III.4 - Aide lait à l'école   \n",
       "3                  XXX      XXX        01XXX  III.4 - Aide lait à l'école   \n",
       "4                  XXX      XXX        01XXX  III.4 - Aide lait à l'école   \n",
       "\n",
       "   Montant rubrique  \n",
       "0            385,41  \n",
       "1           1199,58  \n",
       "2            305,47  \n",
       "3            700,95  \n",
       "4            354,21  "
      ]
     },
     "execution_count": 9,
     "metadata": {},
     "output_type": "execute_result"
    }
   ],
   "source": [
    "df = pd.read_csv('france_2014_raw.csv', delimiter=';', encoding='latin1')\n",
    "df.head()"
   ]
  },
  {
   "cell_type": "code",
   "execution_count": 11,
   "metadata": {
    "collapsed": false
   },
   "outputs": [
    {
     "data": {
      "text/plain": [
       "[u'Nom / Raison sociale',\n",
       " u' Commune',\n",
       " u' Code postal',\n",
       " u' Libell\\xe9 rubrique',\n",
       " u' Montant rubrique']"
      ]
     },
     "execution_count": 11,
     "metadata": {},
     "output_type": "execute_result"
    }
   ],
   "source": [
    "list(df.columns)"
   ]
  },
  {
   "cell_type": "code",
   "execution_count": 12,
   "metadata": {
    "collapsed": false
   },
   "outputs": [
    {
     "data": {
      "text/html": [
       "<div>\n",
       "<table border=\"1\" class=\"dataframe\">\n",
       "  <thead>\n",
       "    <tr style=\"text-align: right;\">\n",
       "      <th></th>\n",
       "      <th>Nom / Raison sociale</th>\n",
       "      <th>Commune</th>\n",
       "      <th>Code postal</th>\n",
       "      <th>Libellé rubrique</th>\n",
       "      <th>Montant rubrique</th>\n",
       "      <th>amount</th>\n",
       "    </tr>\n",
       "  </thead>\n",
       "  <tbody>\n",
       "    <tr>\n",
       "      <th>0</th>\n",
       "      <td>XXX</td>\n",
       "      <td>XXX</td>\n",
       "      <td>01XXX</td>\n",
       "      <td>III.4 - Aide lait à l'école</td>\n",
       "      <td>385,41</td>\n",
       "      <td>385.41</td>\n",
       "    </tr>\n",
       "    <tr>\n",
       "      <th>1</th>\n",
       "      <td>XXX</td>\n",
       "      <td>XXX</td>\n",
       "      <td>01XXX</td>\n",
       "      <td>III.4 - Aide lait à l'école</td>\n",
       "      <td>1199,58</td>\n",
       "      <td>1199.58</td>\n",
       "    </tr>\n",
       "    <tr>\n",
       "      <th>2</th>\n",
       "      <td>XXX</td>\n",
       "      <td>XXX</td>\n",
       "      <td>01XXX</td>\n",
       "      <td>III.4 - Aide lait à l'école</td>\n",
       "      <td>305,47</td>\n",
       "      <td>305.47</td>\n",
       "    </tr>\n",
       "    <tr>\n",
       "      <th>3</th>\n",
       "      <td>XXX</td>\n",
       "      <td>XXX</td>\n",
       "      <td>01XXX</td>\n",
       "      <td>III.4 - Aide lait à l'école</td>\n",
       "      <td>700,95</td>\n",
       "      <td>700.95</td>\n",
       "    </tr>\n",
       "    <tr>\n",
       "      <th>4</th>\n",
       "      <td>XXX</td>\n",
       "      <td>XXX</td>\n",
       "      <td>01XXX</td>\n",
       "      <td>III.4 - Aide lait à l'école</td>\n",
       "      <td>354,21</td>\n",
       "      <td>354.21</td>\n",
       "    </tr>\n",
       "  </tbody>\n",
       "</table>\n",
       "</div>"
      ],
      "text/plain": [
       "  Nom / Raison sociale  Commune  Code postal             Libellé rubrique  \\\n",
       "0                  XXX      XXX        01XXX  III.4 - Aide lait à l'école   \n",
       "1                  XXX      XXX        01XXX  III.4 - Aide lait à l'école   \n",
       "2                  XXX      XXX        01XXX  III.4 - Aide lait à l'école   \n",
       "3                  XXX      XXX        01XXX  III.4 - Aide lait à l'école   \n",
       "4                  XXX      XXX        01XXX  III.4 - Aide lait à l'école   \n",
       "\n",
       "   Montant rubrique   amount  \n",
       "0            385,41   385.41  \n",
       "1           1199,58  1199.58  \n",
       "2            305,47   305.47  \n",
       "3            700,95   700.95  \n",
       "4            354,21   354.21  "
      ]
     },
     "execution_count": 12,
     "metadata": {},
     "output_type": "execute_result"
    }
   ],
   "source": [
    "df['amount'] = pd.to_numeric(df[' Montant rubrique'].str.replace(',', '.'))\n",
    "df.head()"
   ]
  },
  {
   "cell_type": "code",
   "execution_count": 20,
   "metadata": {
    "collapsed": false
   },
   "outputs": [
    {
     "data": {
      "text/plain": [
       "64120    2564\n",
       "64220    1941\n",
       "50XXX    1846\n",
       "64130    1714\n",
       "64XXX    1576\n",
       "24XXX    1341\n",
       "12120    1319\n",
       "64240    1304\n",
       "15100    1240\n",
       "43170    1212\n",
       "12210    1186\n",
       "15130    1162\n",
       "12170    1159\n",
       "15400    1139\n",
       "35XXX    1082\n",
       "12240    1080\n",
       "12200    1064\n",
       "43300    1063\n",
       "38XXX    1055\n",
       "32XXX    1047\n",
       "15500    1041\n",
       "43200    1036\n",
       "64160    1033\n",
       "15600    1032\n",
       "63XXX    1032\n",
       "31XXX    1030\n",
       "12290    1012\n",
       "03130    1007\n",
       "32300     995\n",
       "71800     983\n",
       "         ... \n",
       "36019       1\n",
       "33192       1\n",
       "75665       1\n",
       "77138       1\n",
       "92522       1\n",
       "42007       1\n",
       "42006       1\n",
       "42003       1\n",
       "83140       1\n",
       "17030       1\n",
       "33451       1\n",
       "78108       1\n",
       "51202       1\n",
       "62251       1\n",
       "10041       1\n",
       "13270       1\n",
       "59831       1\n",
       "44275       1\n",
       "62252       1\n",
       "62253       1\n",
       "-5500       1\n",
       "64105       1\n",
       "64109       1\n",
       "60803       1\n",
       "13603       1\n",
       "13601       1\n",
       "35513       1\n",
       "94225       1\n",
       "75181       1\n",
       "47006       1\n",
       "Name:  Code postal, dtype: int64"
      ]
     },
     "execution_count": 20,
     "metadata": {},
     "output_type": "execute_result"
    }
   ],
   "source": [
    "df[' Code postal'].value_counts()"
   ]
  },
  {
   "cell_type": "code",
   "execution_count": 15,
   "metadata": {
    "collapsed": false
   },
   "outputs": [
    {
     "data": {
      "text/plain": [
       "Nom / Raison sociale\n",
       "SUCRIERE DE LA REUNION SAS                                     31745959.02\n",
       "XXX                                                            26357739.20\n",
       "COPFEL                                                         21896482.32\n",
       "STE NOM CO COCOTERAIE DES SABLES                               14587873.66\n",
       "URCOOPA                                                        13739167.81\n",
       "ETS PUB AD DEPARTEMENT DE LA REUNION                           13503976.99\n",
       "SUCRERIE DE BOIS ROUGE                                         13474685.02\n",
       "GARDEL SA                                                      13061394.02\n",
       "AUTRE COLLECT TERRITORIALE CONSEIL GENERAL DE LA GUADELOUPE     9490291.11\n",
       "VIVEA (FAF SUI GENERIS)                                         7904941.98\n",
       "SCA FRANCE CHAMPIGNON                                           7602454.79\n",
       "SCA L'UNION FERMIERE MORBIHANNAISE - UFM                        7601331.34\n",
       "ARIBEV                                                          7466686.20\n",
       "BIRET                                                           6850329.00\n",
       "AGRIAL                                                          5798939.45\n",
       "SCA SAVEOL                                                      5171038.56\n",
       "PETIT MORNE SARL                                                4429891.88\n",
       "CHAMBRE DEPT D AGRICULTURE CHAMBRE D AGRICULTURE                4305034.73\n",
       "SA BOIS DEBOUT                                                  4188482.30\n",
       "GMA                                                             3905368.29\n",
       "UNION DES DISTILLERIES DE LA MEDITERRANEE                       3788923.30\n",
       "SCA OCEANE                                                      3773232.09\n",
       "CAFEIERE SAS                                                    3727041.19\n",
       "AMIV                                                            3718119.73\n",
       "GRAP'SUD                                                        3573298.56\n",
       "CONSEIL INTERPROF DU VIN DE BORDEAUX                            3501526.11\n",
       "SA DES SUCRERIES ET RHUMERIES DE MARIE GALANTE                  3441360.51\n",
       "EARL DU MOULIN                                                  3331594.92\n",
       "ETS PUBLIC AGENCE DE SERVICES ET DE PAIEMENT                    3283650.32\n",
       "UNION DES COOPERATIVES VINICOLES D'AQUITAINE UCVA               3174051.67\n",
       "                                                                  ...     \n",
       "TIPHAIGNE MICHEL                                                   1250.87\n",
       "GUIVARC H NICOLAS                                                  1250.82\n",
       "AUBRUN JEAN MICHEL                                                 1250.82\n",
       "DENIAU WILLY                                                       1250.79\n",
       "PLELAN ISABELLE                                                    1250.77\n",
       "HUON ERIC                                                          1250.76\n",
       "GUIBE GENEVIEVE                                                    1250.75\n",
       "BLEUZEN DOMINIQUE                                                  1250.75\n",
       "DIRIDOLLOU JEANNE                                                  1250.68\n",
       "PERROT BENOIT                                                      1250.66\n",
       "ALBOUY FREDERIC                                                    1250.58\n",
       "TRICHEUX JACQUES                                                   1250.57\n",
       "BRUNE PAULETTE                                                     1250.54\n",
       "SUTTER ROSE                                                        1250.53\n",
       "JACQUET LOIC                                                       1250.50\n",
       "BEAULIEU CHRISTIAN                                                 1250.45\n",
       "DESCOMBES JEAN-PAUL                                                1250.34\n",
       "FLACHER JOSEPH                                                     1250.33\n",
       "ANDREUZZA PATRICK                                                  1250.29\n",
       "WARLOP BERNARD                                                     1250.28\n",
       "MOYRET MARGUERITE                                                  1250.24\n",
       "BOUSSARD GERARD                                                    1250.22\n",
       "BEC EVELYNE                                                        1250.20\n",
       "BEAUX MARIE LOUISE                                                 1250.20\n",
       "GARRIDO MAX                                                        1250.20\n",
       "LASSEGUE JEAN PIERRE                                               1250.14\n",
       "BOUSSEAU MARIE-ANDREE                                              1250.12\n",
       "DELATTRE PATRICE                                                   1250.10\n",
       "FOURETIER REGIS                                                    1250.08\n",
       "BARRET RENE                                                        1250.02\n",
       "Name: amount, dtype: float64"
      ]
     },
     "execution_count": 15,
     "metadata": {},
     "output_type": "execute_result"
    }
   ],
   "source": [
    "df.groupby('Nom / Raison sociale')['amount'].sum().sort_values(ascending=False)"
   ]
  },
  {
   "cell_type": "code",
   "execution_count": 21,
   "metadata": {
    "collapsed": false
   },
   "outputs": [
    {
     "data": {
      "text/html": [
       "<div>\n",
       "<table border=\"1\" class=\"dataframe\">\n",
       "  <thead>\n",
       "    <tr style=\"text-align: right;\">\n",
       "      <th></th>\n",
       "      <th>Nom / Raison sociale</th>\n",
       "      <th>Commune</th>\n",
       "      <th>Code postal</th>\n",
       "      <th>Libellé rubrique</th>\n",
       "      <th>Montant rubrique</th>\n",
       "      <th>amount</th>\n",
       "    </tr>\n",
       "  </thead>\n",
       "  <tbody>\n",
       "    <tr>\n",
       "      <th>0</th>\n",
       "      <td>XXX</td>\n",
       "      <td>XXX</td>\n",
       "      <td>01XXX</td>\n",
       "      <td>III.4 - Aide lait à l'école</td>\n",
       "      <td>385,41</td>\n",
       "      <td>385.41</td>\n",
       "    </tr>\n",
       "    <tr>\n",
       "      <th>1</th>\n",
       "      <td>XXX</td>\n",
       "      <td>XXX</td>\n",
       "      <td>01XXX</td>\n",
       "      <td>III.4 - Aide lait à l'école</td>\n",
       "      <td>1199,58</td>\n",
       "      <td>1199.58</td>\n",
       "    </tr>\n",
       "    <tr>\n",
       "      <th>2</th>\n",
       "      <td>XXX</td>\n",
       "      <td>XXX</td>\n",
       "      <td>01XXX</td>\n",
       "      <td>III.4 - Aide lait à l'école</td>\n",
       "      <td>305,47</td>\n",
       "      <td>305.47</td>\n",
       "    </tr>\n",
       "    <tr>\n",
       "      <th>3</th>\n",
       "      <td>XXX</td>\n",
       "      <td>XXX</td>\n",
       "      <td>01XXX</td>\n",
       "      <td>III.4 - Aide lait à l'école</td>\n",
       "      <td>700,95</td>\n",
       "      <td>700.95</td>\n",
       "    </tr>\n",
       "    <tr>\n",
       "      <th>4</th>\n",
       "      <td>XXX</td>\n",
       "      <td>XXX</td>\n",
       "      <td>01XXX</td>\n",
       "      <td>III.4 - Aide lait à l'école</td>\n",
       "      <td>354,21</td>\n",
       "      <td>354.21</td>\n",
       "    </tr>\n",
       "  </tbody>\n",
       "</table>\n",
       "</div>"
      ],
      "text/plain": [
       "  Nom / Raison sociale  Commune  Code postal             Libellé rubrique  \\\n",
       "0                  XXX      XXX        01XXX  III.4 - Aide lait à l'école   \n",
       "1                  XXX      XXX        01XXX  III.4 - Aide lait à l'école   \n",
       "2                  XXX      XXX        01XXX  III.4 - Aide lait à l'école   \n",
       "3                  XXX      XXX        01XXX  III.4 - Aide lait à l'école   \n",
       "4                  XXX      XXX        01XXX  III.4 - Aide lait à l'école   \n",
       "\n",
       "   Montant rubrique   amount  \n",
       "0            385,41   385.41  \n",
       "1           1199,58  1199.58  \n",
       "2            305,47   305.47  \n",
       "3            700,95   700.95  \n",
       "4            354,21   354.21  "
      ]
     },
     "execution_count": 21,
     "metadata": {},
     "output_type": "execute_result"
    }
   ],
   "source": [
    "df.head()"
   ]
  },
  {
   "cell_type": "code",
   "execution_count": 26,
   "metadata": {
    "collapsed": false
   },
   "outputs": [
    {
     "data": {
      "text/html": [
       "<div>\n",
       "<table border=\"1\" class=\"dataframe\">\n",
       "  <thead>\n",
       "    <tr style=\"text-align: right;\">\n",
       "      <th></th>\n",
       "      <th>recipient_name</th>\n",
       "      <th>recipient_location</th>\n",
       "      <th>recipient_postcode</th>\n",
       "      <th>scheme</th>\n",
       "      <th>amount</th>\n",
       "    </tr>\n",
       "  </thead>\n",
       "  <tbody>\n",
       "    <tr>\n",
       "      <th>0</th>\n",
       "      <td>XXX</td>\n",
       "      <td></td>\n",
       "      <td>01XXX</td>\n",
       "      <td>III.4 - Aide lait à l'école</td>\n",
       "      <td>385.41</td>\n",
       "    </tr>\n",
       "    <tr>\n",
       "      <th>1</th>\n",
       "      <td>XXX</td>\n",
       "      <td></td>\n",
       "      <td>01XXX</td>\n",
       "      <td>III.4 - Aide lait à l'école</td>\n",
       "      <td>1199.58</td>\n",
       "    </tr>\n",
       "    <tr>\n",
       "      <th>2</th>\n",
       "      <td>XXX</td>\n",
       "      <td></td>\n",
       "      <td>01XXX</td>\n",
       "      <td>III.4 - Aide lait à l'école</td>\n",
       "      <td>305.47</td>\n",
       "    </tr>\n",
       "    <tr>\n",
       "      <th>3</th>\n",
       "      <td>XXX</td>\n",
       "      <td></td>\n",
       "      <td>01XXX</td>\n",
       "      <td>III.4 - Aide lait à l'école</td>\n",
       "      <td>700.95</td>\n",
       "    </tr>\n",
       "    <tr>\n",
       "      <th>4</th>\n",
       "      <td>XXX</td>\n",
       "      <td></td>\n",
       "      <td>01XXX</td>\n",
       "      <td>III.4 - Aide lait à l'école</td>\n",
       "      <td>354.21</td>\n",
       "    </tr>\n",
       "  </tbody>\n",
       "</table>\n",
       "</div>"
      ],
      "text/plain": [
       "  recipient_name recipient_location recipient_postcode  \\\n",
       "0            XXX                                 01XXX   \n",
       "1            XXX                                 01XXX   \n",
       "2            XXX                                 01XXX   \n",
       "3            XXX                                 01XXX   \n",
       "4            XXX                                 01XXX   \n",
       "\n",
       "                        scheme   amount  \n",
       "0  III.4 - Aide lait à l'école   385.41  \n",
       "1  III.4 - Aide lait à l'école  1199.58  \n",
       "2  III.4 - Aide lait à l'école   305.47  \n",
       "3  III.4 - Aide lait à l'école   700.95  \n",
       "4  III.4 - Aide lait à l'école   354.21  "
      ]
     },
     "execution_count": 26,
     "metadata": {},
     "output_type": "execute_result"
    }
   ],
   "source": [
    "df = df.rename(columns={\n",
    "    'Nom / Raison sociale': 'recipient_name',\n",
    "    ' Commune': 'recipient_location',\n",
    "    ' Code postal': 'recipient_postcode',\n",
    "    u' Libellé rubrique': 'scheme'\n",
    "})\n",
    "df = df.drop(' Montant rubrique', 1)\n",
    "df.head()"
   ]
  },
  {
   "cell_type": "code",
   "execution_count": 24,
   "metadata": {
    "collapsed": false
   },
   "outputs": [
    {
     "data": {
      "text/html": [
       "<div>\n",
       "<table border=\"1\" class=\"dataframe\">\n",
       "  <thead>\n",
       "    <tr style=\"text-align: right;\">\n",
       "      <th></th>\n",
       "      <th>recipient_name</th>\n",
       "      <th>recipient_location</th>\n",
       "      <th>recipient_postcode</th>\n",
       "      <th>Libellé rubrique</th>\n",
       "      <th>amount</th>\n",
       "    </tr>\n",
       "  </thead>\n",
       "  <tbody>\n",
       "    <tr>\n",
       "      <th>0</th>\n",
       "      <td>XXX</td>\n",
       "      <td></td>\n",
       "      <td>01XXX</td>\n",
       "      <td>III.4 - Aide lait à l'école</td>\n",
       "      <td>385.41</td>\n",
       "    </tr>\n",
       "    <tr>\n",
       "      <th>1</th>\n",
       "      <td>XXX</td>\n",
       "      <td></td>\n",
       "      <td>01XXX</td>\n",
       "      <td>III.4 - Aide lait à l'école</td>\n",
       "      <td>1199.58</td>\n",
       "    </tr>\n",
       "    <tr>\n",
       "      <th>2</th>\n",
       "      <td>XXX</td>\n",
       "      <td></td>\n",
       "      <td>01XXX</td>\n",
       "      <td>III.4 - Aide lait à l'école</td>\n",
       "      <td>305.47</td>\n",
       "    </tr>\n",
       "    <tr>\n",
       "      <th>3</th>\n",
       "      <td>XXX</td>\n",
       "      <td></td>\n",
       "      <td>01XXX</td>\n",
       "      <td>III.4 - Aide lait à l'école</td>\n",
       "      <td>700.95</td>\n",
       "    </tr>\n",
       "    <tr>\n",
       "      <th>4</th>\n",
       "      <td>XXX</td>\n",
       "      <td></td>\n",
       "      <td>01XXX</td>\n",
       "      <td>III.4 - Aide lait à l'école</td>\n",
       "      <td>354.21</td>\n",
       "    </tr>\n",
       "  </tbody>\n",
       "</table>\n",
       "</div>"
      ],
      "text/plain": [
       "  recipient_name recipient_location recipient_postcode  \\\n",
       "0            XXX                                 01XXX   \n",
       "1            XXX                                 01XXX   \n",
       "2            XXX                                 01XXX   \n",
       "3            XXX                                 01XXX   \n",
       "4            XXX                                 01XXX   \n",
       "\n",
       "              Libellé rubrique   amount  \n",
       "0  III.4 - Aide lait à l'école   385.41  \n",
       "1  III.4 - Aide lait à l'école  1199.58  \n",
       "2  III.4 - Aide lait à l'école   305.47  \n",
       "3  III.4 - Aide lait à l'école   700.95  \n",
       "4  III.4 - Aide lait à l'école   354.21  "
      ]
     },
     "execution_count": 24,
     "metadata": {},
     "output_type": "execute_result"
    }
   ],
   "source": [
    "df['recipient_location'] = df['recipient_location'].where(df['recipient_location'] != 'XXX', '')\n",
    "df.head()"
   ]
  },
  {
   "cell_type": "code",
   "execution_count": 27,
   "metadata": {
    "collapsed": false
   },
   "outputs": [
    {
     "data": {
      "text/html": [
       "<div>\n",
       "<table border=\"1\" class=\"dataframe\">\n",
       "  <thead>\n",
       "    <tr style=\"text-align: right;\">\n",
       "      <th></th>\n",
       "      <th>recipient_name</th>\n",
       "      <th>recipient_location</th>\n",
       "      <th>recipient_postcode</th>\n",
       "      <th>scheme</th>\n",
       "      <th>amount</th>\n",
       "    </tr>\n",
       "  </thead>\n",
       "  <tbody>\n",
       "    <tr>\n",
       "      <th>0</th>\n",
       "      <td></td>\n",
       "      <td></td>\n",
       "      <td>01XXX</td>\n",
       "      <td>III.4 - Aide lait à l'école</td>\n",
       "      <td>385.41</td>\n",
       "    </tr>\n",
       "    <tr>\n",
       "      <th>1</th>\n",
       "      <td></td>\n",
       "      <td></td>\n",
       "      <td>01XXX</td>\n",
       "      <td>III.4 - Aide lait à l'école</td>\n",
       "      <td>1199.58</td>\n",
       "    </tr>\n",
       "    <tr>\n",
       "      <th>2</th>\n",
       "      <td></td>\n",
       "      <td></td>\n",
       "      <td>01XXX</td>\n",
       "      <td>III.4 - Aide lait à l'école</td>\n",
       "      <td>305.47</td>\n",
       "    </tr>\n",
       "    <tr>\n",
       "      <th>3</th>\n",
       "      <td></td>\n",
       "      <td></td>\n",
       "      <td>01XXX</td>\n",
       "      <td>III.4 - Aide lait à l'école</td>\n",
       "      <td>700.95</td>\n",
       "    </tr>\n",
       "    <tr>\n",
       "      <th>4</th>\n",
       "      <td></td>\n",
       "      <td></td>\n",
       "      <td>01XXX</td>\n",
       "      <td>III.4 - Aide lait à l'école</td>\n",
       "      <td>354.21</td>\n",
       "    </tr>\n",
       "  </tbody>\n",
       "</table>\n",
       "</div>"
      ],
      "text/plain": [
       "  recipient_name recipient_location recipient_postcode  \\\n",
       "0                                                01XXX   \n",
       "1                                                01XXX   \n",
       "2                                                01XXX   \n",
       "3                                                01XXX   \n",
       "4                                                01XXX   \n",
       "\n",
       "                        scheme   amount  \n",
       "0  III.4 - Aide lait à l'école   385.41  \n",
       "1  III.4 - Aide lait à l'école  1199.58  \n",
       "2  III.4 - Aide lait à l'école   305.47  \n",
       "3  III.4 - Aide lait à l'école   700.95  \n",
       "4  III.4 - Aide lait à l'école   354.21  "
      ]
     },
     "execution_count": 27,
     "metadata": {},
     "output_type": "execute_result"
    }
   ],
   "source": [
    "df['recipient_name'] = df['recipient_name'].where(df['recipient_name'] != 'XXX', '')\n",
    "df.head()"
   ]
  },
  {
   "cell_type": "code",
   "execution_count": 34,
   "metadata": {
    "collapsed": false
   },
   "outputs": [
    {
     "data": {
      "text/html": [
       "<div>\n",
       "<table border=\"1\" class=\"dataframe\">\n",
       "  <thead>\n",
       "    <tr style=\"text-align: right;\">\n",
       "      <th></th>\n",
       "      <th>recipient_name</th>\n",
       "      <th>recipient_location</th>\n",
       "      <th>recipient_postcode</th>\n",
       "      <th>scheme</th>\n",
       "      <th>amount</th>\n",
       "      <th>recipient_id</th>\n",
       "      <th>year</th>\n",
       "    </tr>\n",
       "  </thead>\n",
       "  <tbody>\n",
       "    <tr>\n",
       "      <th>0</th>\n",
       "      <td></td>\n",
       "      <td></td>\n",
       "      <td>01XXX</td>\n",
       "      <td>III.4 - Aide lait à l'école</td>\n",
       "      <td>385.41</td>\n",
       "      <td>FR-01XXX-2014-0</td>\n",
       "      <td>2014</td>\n",
       "    </tr>\n",
       "    <tr>\n",
       "      <th>1</th>\n",
       "      <td></td>\n",
       "      <td></td>\n",
       "      <td>01XXX</td>\n",
       "      <td>III.4 - Aide lait à l'école</td>\n",
       "      <td>1199.58</td>\n",
       "      <td>FR-01XXX-2014-1</td>\n",
       "      <td>2014</td>\n",
       "    </tr>\n",
       "    <tr>\n",
       "      <th>2</th>\n",
       "      <td></td>\n",
       "      <td></td>\n",
       "      <td>01XXX</td>\n",
       "      <td>III.4 - Aide lait à l'école</td>\n",
       "      <td>305.47</td>\n",
       "      <td>FR-01XXX-2014-2</td>\n",
       "      <td>2014</td>\n",
       "    </tr>\n",
       "    <tr>\n",
       "      <th>3</th>\n",
       "      <td></td>\n",
       "      <td></td>\n",
       "      <td>01XXX</td>\n",
       "      <td>III.4 - Aide lait à l'école</td>\n",
       "      <td>700.95</td>\n",
       "      <td>FR-01XXX-2014-3</td>\n",
       "      <td>2014</td>\n",
       "    </tr>\n",
       "    <tr>\n",
       "      <th>4</th>\n",
       "      <td></td>\n",
       "      <td></td>\n",
       "      <td>01XXX</td>\n",
       "      <td>III.4 - Aide lait à l'école</td>\n",
       "      <td>354.21</td>\n",
       "      <td>FR-01XXX-2014-4</td>\n",
       "      <td>2014</td>\n",
       "    </tr>\n",
       "  </tbody>\n",
       "</table>\n",
       "</div>"
      ],
      "text/plain": [
       "  recipient_name recipient_location recipient_postcode  \\\n",
       "0                                                01XXX   \n",
       "1                                                01XXX   \n",
       "2                                                01XXX   \n",
       "3                                                01XXX   \n",
       "4                                                01XXX   \n",
       "\n",
       "                        scheme   amount     recipient_id  year  \n",
       "0  III.4 - Aide lait à l'école   385.41  FR-01XXX-2014-0  2014  \n",
       "1  III.4 - Aide lait à l'école  1199.58  FR-01XXX-2014-1  2014  \n",
       "2  III.4 - Aide lait à l'école   305.47  FR-01XXX-2014-2  2014  \n",
       "3  III.4 - Aide lait à l'école   700.95  FR-01XXX-2014-3  2014  \n",
       "4  III.4 - Aide lait à l'école   354.21  FR-01XXX-2014-4  2014  "
      ]
     },
     "execution_count": 34,
     "metadata": {},
     "output_type": "execute_result"
    }
   ],
   "source": [
    "from slugify import slugify\n",
    "\n",
    "df['year'] = 2014\n",
    "df['recipient_id'] = df.apply(lambda x: 'FR-%s-%s' % (x['recipient_postcode'],\n",
    "                                                     slugify(x['recipient_name']) if x['recipient_name'] else '%s-%s' % (x['year'], x.name)), 1)\n",
    "df.head()"
   ]
  },
  {
   "cell_type": "code",
   "execution_count": 33,
   "metadata": {
    "collapsed": false
   },
   "outputs": [
    {
     "data": {
      "text/plain": [
       "426279"
      ]
     },
     "execution_count": 33,
     "metadata": {},
     "output_type": "execute_result"
    }
   ],
   "source": [
    "df['recipient_id'].value_counts().count()"
   ]
  },
  {
   "cell_type": "code",
   "execution_count": 35,
   "metadata": {
    "collapsed": false
   },
   "outputs": [
    {
     "data": {
      "text/html": [
       "<div>\n",
       "<table border=\"1\" class=\"dataframe\">\n",
       "  <thead>\n",
       "    <tr style=\"text-align: right;\">\n",
       "      <th></th>\n",
       "      <th>recipient_name</th>\n",
       "      <th>recipient_location</th>\n",
       "      <th>recipient_postcode</th>\n",
       "      <th>scheme</th>\n",
       "      <th>amount</th>\n",
       "      <th>recipient_id</th>\n",
       "      <th>year</th>\n",
       "      <th>currency</th>\n",
       "      <th>country</th>\n",
       "    </tr>\n",
       "  </thead>\n",
       "  <tbody>\n",
       "    <tr>\n",
       "      <th>0</th>\n",
       "      <td></td>\n",
       "      <td></td>\n",
       "      <td>01XXX</td>\n",
       "      <td>III.4 - Aide lait à l'école</td>\n",
       "      <td>385.41</td>\n",
       "      <td>FR-01XXX-2014-0</td>\n",
       "      <td>2014</td>\n",
       "      <td>EUR</td>\n",
       "      <td>FR</td>\n",
       "    </tr>\n",
       "    <tr>\n",
       "      <th>1</th>\n",
       "      <td></td>\n",
       "      <td></td>\n",
       "      <td>01XXX</td>\n",
       "      <td>III.4 - Aide lait à l'école</td>\n",
       "      <td>1199.58</td>\n",
       "      <td>FR-01XXX-2014-1</td>\n",
       "      <td>2014</td>\n",
       "      <td>EUR</td>\n",
       "      <td>FR</td>\n",
       "    </tr>\n",
       "    <tr>\n",
       "      <th>2</th>\n",
       "      <td></td>\n",
       "      <td></td>\n",
       "      <td>01XXX</td>\n",
       "      <td>III.4 - Aide lait à l'école</td>\n",
       "      <td>305.47</td>\n",
       "      <td>FR-01XXX-2014-2</td>\n",
       "      <td>2014</td>\n",
       "      <td>EUR</td>\n",
       "      <td>FR</td>\n",
       "    </tr>\n",
       "    <tr>\n",
       "      <th>3</th>\n",
       "      <td></td>\n",
       "      <td></td>\n",
       "      <td>01XXX</td>\n",
       "      <td>III.4 - Aide lait à l'école</td>\n",
       "      <td>700.95</td>\n",
       "      <td>FR-01XXX-2014-3</td>\n",
       "      <td>2014</td>\n",
       "      <td>EUR</td>\n",
       "      <td>FR</td>\n",
       "    </tr>\n",
       "    <tr>\n",
       "      <th>4</th>\n",
       "      <td></td>\n",
       "      <td></td>\n",
       "      <td>01XXX</td>\n",
       "      <td>III.4 - Aide lait à l'école</td>\n",
       "      <td>354.21</td>\n",
       "      <td>FR-01XXX-2014-4</td>\n",
       "      <td>2014</td>\n",
       "      <td>EUR</td>\n",
       "      <td>FR</td>\n",
       "    </tr>\n",
       "  </tbody>\n",
       "</table>\n",
       "</div>"
      ],
      "text/plain": [
       "  recipient_name recipient_location recipient_postcode  \\\n",
       "0                                                01XXX   \n",
       "1                                                01XXX   \n",
       "2                                                01XXX   \n",
       "3                                                01XXX   \n",
       "4                                                01XXX   \n",
       "\n",
       "                        scheme   amount     recipient_id  year currency  \\\n",
       "0  III.4 - Aide lait à l'école   385.41  FR-01XXX-2014-0  2014      EUR   \n",
       "1  III.4 - Aide lait à l'école  1199.58  FR-01XXX-2014-1  2014      EUR   \n",
       "2  III.4 - Aide lait à l'école   305.47  FR-01XXX-2014-2  2014      EUR   \n",
       "3  III.4 - Aide lait à l'école   700.95  FR-01XXX-2014-3  2014      EUR   \n",
       "4  III.4 - Aide lait à l'école   354.21  FR-01XXX-2014-4  2014      EUR   \n",
       "\n",
       "  country  \n",
       "0      FR  \n",
       "1      FR  \n",
       "2      FR  \n",
       "3      FR  \n",
       "4      FR  "
      ]
     },
     "execution_count": 35,
     "metadata": {},
     "output_type": "execute_result"
    }
   ],
   "source": [
    "df['currency'] = 'EUR'\n",
    "df['country'] = 'FR'\n",
    "df.head()"
   ]
  },
  {
   "cell_type": "code",
   "execution_count": 36,
   "metadata": {
    "collapsed": true
   },
   "outputs": [],
   "source": [
    "df.to_csv('fr_2014.csv', index=False, encoding='utf-8')"
   ]
  }
 ],
 "metadata": {
  "kernelspec": {
   "display_name": "Python 2",
   "language": "python",
   "name": "python2"
  },
  "language_info": {
   "codemirror_mode": {
    "name": "ipython",
    "version": 2
   },
   "file_extension": ".py",
   "mimetype": "text/x-python",
   "name": "python",
   "nbconvert_exporter": "python",
   "pygments_lexer": "ipython2",
   "version": "2.7.11"
  }
 },
 "nbformat": 4,
 "nbformat_minor": 0
}
