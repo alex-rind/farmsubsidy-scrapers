{
 "cells": [
  {
   "cell_type": "code",
   "execution_count": 1,
   "metadata": {
    "collapsed": false
   },
   "outputs": [
    {
     "name": "stdout",
     "output_type": "stream",
     "text": [
      "File 'Beneficiaries_municipality_financial_year_2014.txt' already there; not retrieving.\r\n",
      "\r\n"
     ]
    }
   ],
   "source": [
    "!wget -nc \"http://www.fega.es/sites/default/files/files/Beneficiaries_municipality_financial_year_2014.txt\""
   ]
  },
  {
   "cell_type": "code",
   "execution_count": 2,
   "metadata": {
    "collapsed": true
   },
   "outputs": [],
   "source": [
    "import pandas as pd"
   ]
  },
  {
   "cell_type": "code",
   "execution_count": 3,
   "metadata": {
    "collapsed": false
   },
   "outputs": [
    {
     "data": {
      "text/html": [
       "<div>\n",
       "<table border=\"1\" class=\"dataframe\">\n",
       "  <thead>\n",
       "    <tr style=\"text-align: right;\">\n",
       "      <th></th>\n",
       "      <th>BENEFICIARIO</th>\n",
       "      <th>PROVINCIA</th>\n",
       "      <th>MUNICIPIO</th>\n",
       "      <th>MEDIDA</th>\n",
       "      <th>IMPORTE_EUROS</th>\n",
       "    </tr>\n",
       "  </thead>\n",
       "  <tbody>\n",
       "    <tr>\n",
       "      <th>0</th>\n",
       "      <td>A BOUCIÑA S.C.</td>\n",
       "      <td>A Coruña</td>\n",
       "      <td>15074 - Rois</td>\n",
       "      <td>I.1   Single payment scheme</td>\n",
       "      <td>17105,53</td>\n",
       "    </tr>\n",
       "    <tr>\n",
       "      <th>1</th>\n",
       "      <td>A BOUCIÑA S.C.</td>\n",
       "      <td>A Coruña</td>\n",
       "      <td>15074 - Rois</td>\n",
       "      <td>I.7   Specific support</td>\n",
       "      <td>2830,77</td>\n",
       "    </tr>\n",
       "    <tr>\n",
       "      <th>2</th>\n",
       "      <td>A CABADA SC</td>\n",
       "      <td>Lugo</td>\n",
       "      <td>27016 - Chantada</td>\n",
       "      <td>I.1   Single payment scheme</td>\n",
       "      <td>9416,07</td>\n",
       "    </tr>\n",
       "    <tr>\n",
       "      <th>3</th>\n",
       "      <td>A CABADA SC</td>\n",
       "      <td>Lugo</td>\n",
       "      <td>27016 - Chantada</td>\n",
       "      <td>I.7   Specific support</td>\n",
       "      <td>4241</td>\n",
       "    </tr>\n",
       "    <tr>\n",
       "      <th>4</th>\n",
       "      <td>A CABADA SC</td>\n",
       "      <td>Lugo</td>\n",
       "      <td>27016 - Chantada</td>\n",
       "      <td>V/B.2.4   Agri-environment payments [Med.214]</td>\n",
       "      <td>9538,68</td>\n",
       "    </tr>\n",
       "  </tbody>\n",
       "</table>\n",
       "</div>"
      ],
      "text/plain": [
       "     BENEFICIARIO PROVINCIA         MUNICIPIO  \\\n",
       "0  A BOUCIÑA S.C.  A Coruña      15074 - Rois   \n",
       "1  A BOUCIÑA S.C.  A Coruña      15074 - Rois   \n",
       "2     A CABADA SC      Lugo  27016 - Chantada   \n",
       "3     A CABADA SC      Lugo  27016 - Chantada   \n",
       "4     A CABADA SC      Lugo  27016 - Chantada   \n",
       "\n",
       "                                          MEDIDA IMPORTE_EUROS  \n",
       "0                   I.1   Single payment scheme       17105,53  \n",
       "1                         I.7   Specific support       2830,77  \n",
       "2                   I.1   Single payment scheme        9416,07  \n",
       "3                         I.7   Specific support          4241  \n",
       "4  V/B.2.4   Agri-environment payments [Med.214]       9538,68  "
      ]
     },
     "execution_count": 3,
     "metadata": {},
     "output_type": "execute_result"
    }
   ],
   "source": [
    "df = pd.read_csv('Beneficiaries_municipality_financial_year_2014.txt', delimiter=';', encoding='latin1')\n",
    "df.head()"
   ]
  },
  {
   "cell_type": "code",
   "execution_count": 4,
   "metadata": {
    "collapsed": true
   },
   "outputs": [],
   "source": [
    "df['amount'] = pd.to_numeric(df['IMPORTE_EUROS'].str.replace(',', '.'))"
   ]
  },
  {
   "cell_type": "code",
   "execution_count": 5,
   "metadata": {
    "collapsed": false
   },
   "outputs": [
    {
     "data": {
      "text/html": [
       "<div>\n",
       "<table border=\"1\" class=\"dataframe\">\n",
       "  <thead>\n",
       "    <tr style=\"text-align: right;\">\n",
       "      <th></th>\n",
       "      <th>BENEFICIARIO</th>\n",
       "      <th>PROVINCIA</th>\n",
       "      <th>MUNICIPIO</th>\n",
       "      <th>MEDIDA</th>\n",
       "      <th>IMPORTE_EUROS</th>\n",
       "      <th>amount</th>\n",
       "      <th>recipient_postcode</th>\n",
       "    </tr>\n",
       "  </thead>\n",
       "  <tbody>\n",
       "    <tr>\n",
       "      <th>0</th>\n",
       "      <td>A BOUCIÑA S.C.</td>\n",
       "      <td>A Coruña</td>\n",
       "      <td>15074 - Rois</td>\n",
       "      <td>I.1   Single payment scheme</td>\n",
       "      <td>17105,53</td>\n",
       "      <td>17105.53</td>\n",
       "      <td>15074</td>\n",
       "    </tr>\n",
       "    <tr>\n",
       "      <th>1</th>\n",
       "      <td>A BOUCIÑA S.C.</td>\n",
       "      <td>A Coruña</td>\n",
       "      <td>15074 - Rois</td>\n",
       "      <td>I.7   Specific support</td>\n",
       "      <td>2830,77</td>\n",
       "      <td>2830.77</td>\n",
       "      <td>15074</td>\n",
       "    </tr>\n",
       "    <tr>\n",
       "      <th>2</th>\n",
       "      <td>A CABADA SC</td>\n",
       "      <td>Lugo</td>\n",
       "      <td>27016 - Chantada</td>\n",
       "      <td>I.1   Single payment scheme</td>\n",
       "      <td>9416,07</td>\n",
       "      <td>9416.07</td>\n",
       "      <td>27016</td>\n",
       "    </tr>\n",
       "    <tr>\n",
       "      <th>3</th>\n",
       "      <td>A CABADA SC</td>\n",
       "      <td>Lugo</td>\n",
       "      <td>27016 - Chantada</td>\n",
       "      <td>I.7   Specific support</td>\n",
       "      <td>4241</td>\n",
       "      <td>4241.00</td>\n",
       "      <td>27016</td>\n",
       "    </tr>\n",
       "    <tr>\n",
       "      <th>4</th>\n",
       "      <td>A CABADA SC</td>\n",
       "      <td>Lugo</td>\n",
       "      <td>27016 - Chantada</td>\n",
       "      <td>V/B.2.4   Agri-environment payments [Med.214]</td>\n",
       "      <td>9538,68</td>\n",
       "      <td>9538.68</td>\n",
       "      <td>27016</td>\n",
       "    </tr>\n",
       "  </tbody>\n",
       "</table>\n",
       "</div>"
      ],
      "text/plain": [
       "     BENEFICIARIO PROVINCIA         MUNICIPIO  \\\n",
       "0  A BOUCIÑA S.C.  A Coruña      15074 - Rois   \n",
       "1  A BOUCIÑA S.C.  A Coruña      15074 - Rois   \n",
       "2     A CABADA SC      Lugo  27016 - Chantada   \n",
       "3     A CABADA SC      Lugo  27016 - Chantada   \n",
       "4     A CABADA SC      Lugo  27016 - Chantada   \n",
       "\n",
       "                                          MEDIDA IMPORTE_EUROS    amount  \\\n",
       "0                   I.1   Single payment scheme       17105,53  17105.53   \n",
       "1                         I.7   Specific support       2830,77   2830.77   \n",
       "2                   I.1   Single payment scheme        9416,07   9416.07   \n",
       "3                         I.7   Specific support          4241   4241.00   \n",
       "4  V/B.2.4   Agri-environment payments [Med.214]       9538,68   9538.68   \n",
       "\n",
       "  recipient_postcode  \n",
       "0              15074  \n",
       "1              15074  \n",
       "2              27016  \n",
       "3              27016  \n",
       "4              27016  "
      ]
     },
     "execution_count": 5,
     "metadata": {},
     "output_type": "execute_result"
    }
   ],
   "source": [
    "df['recipient_postcode'] = df['MUNICIPIO'].str.split(' - ').apply(lambda x: x [0])\n",
    "df.head()"
   ]
  },
  {
   "cell_type": "code",
   "execution_count": 6,
   "metadata": {
    "collapsed": false
   },
   "outputs": [
    {
     "data": {
      "text/html": [
       "<div>\n",
       "<table border=\"1\" class=\"dataframe\">\n",
       "  <thead>\n",
       "    <tr style=\"text-align: right;\">\n",
       "      <th></th>\n",
       "      <th>BENEFICIARIO</th>\n",
       "      <th>PROVINCIA</th>\n",
       "      <th>MUNICIPIO</th>\n",
       "      <th>MEDIDA</th>\n",
       "      <th>IMPORTE_EUROS</th>\n",
       "      <th>amount</th>\n",
       "      <th>recipient_postcode</th>\n",
       "      <th>recipient_location</th>\n",
       "    </tr>\n",
       "  </thead>\n",
       "  <tbody>\n",
       "    <tr>\n",
       "      <th>0</th>\n",
       "      <td>A BOUCIÑA S.C.</td>\n",
       "      <td>A Coruña</td>\n",
       "      <td>15074 - Rois</td>\n",
       "      <td>I.1   Single payment scheme</td>\n",
       "      <td>17105,53</td>\n",
       "      <td>17105.53</td>\n",
       "      <td>15074</td>\n",
       "      <td>Rois, A Coruña</td>\n",
       "    </tr>\n",
       "    <tr>\n",
       "      <th>1</th>\n",
       "      <td>A BOUCIÑA S.C.</td>\n",
       "      <td>A Coruña</td>\n",
       "      <td>15074 - Rois</td>\n",
       "      <td>I.7   Specific support</td>\n",
       "      <td>2830,77</td>\n",
       "      <td>2830.77</td>\n",
       "      <td>15074</td>\n",
       "      <td>Rois, A Coruña</td>\n",
       "    </tr>\n",
       "    <tr>\n",
       "      <th>2</th>\n",
       "      <td>A CABADA SC</td>\n",
       "      <td>Lugo</td>\n",
       "      <td>27016 - Chantada</td>\n",
       "      <td>I.1   Single payment scheme</td>\n",
       "      <td>9416,07</td>\n",
       "      <td>9416.07</td>\n",
       "      <td>27016</td>\n",
       "      <td>Chantada, Lugo</td>\n",
       "    </tr>\n",
       "    <tr>\n",
       "      <th>3</th>\n",
       "      <td>A CABADA SC</td>\n",
       "      <td>Lugo</td>\n",
       "      <td>27016 - Chantada</td>\n",
       "      <td>I.7   Specific support</td>\n",
       "      <td>4241</td>\n",
       "      <td>4241.00</td>\n",
       "      <td>27016</td>\n",
       "      <td>Chantada, Lugo</td>\n",
       "    </tr>\n",
       "    <tr>\n",
       "      <th>4</th>\n",
       "      <td>A CABADA SC</td>\n",
       "      <td>Lugo</td>\n",
       "      <td>27016 - Chantada</td>\n",
       "      <td>V/B.2.4   Agri-environment payments [Med.214]</td>\n",
       "      <td>9538,68</td>\n",
       "      <td>9538.68</td>\n",
       "      <td>27016</td>\n",
       "      <td>Chantada, Lugo</td>\n",
       "    </tr>\n",
       "  </tbody>\n",
       "</table>\n",
       "</div>"
      ],
      "text/plain": [
       "     BENEFICIARIO PROVINCIA         MUNICIPIO  \\\n",
       "0  A BOUCIÑA S.C.  A Coruña      15074 - Rois   \n",
       "1  A BOUCIÑA S.C.  A Coruña      15074 - Rois   \n",
       "2     A CABADA SC      Lugo  27016 - Chantada   \n",
       "3     A CABADA SC      Lugo  27016 - Chantada   \n",
       "4     A CABADA SC      Lugo  27016 - Chantada   \n",
       "\n",
       "                                          MEDIDA IMPORTE_EUROS    amount  \\\n",
       "0                   I.1   Single payment scheme       17105,53  17105.53   \n",
       "1                         I.7   Specific support       2830,77   2830.77   \n",
       "2                   I.1   Single payment scheme        9416,07   9416.07   \n",
       "3                         I.7   Specific support          4241   4241.00   \n",
       "4  V/B.2.4   Agri-environment payments [Med.214]       9538,68   9538.68   \n",
       "\n",
       "  recipient_postcode recipient_location  \n",
       "0              15074     Rois, A Coruña  \n",
       "1              15074     Rois, A Coruña  \n",
       "2              27016     Chantada, Lugo  \n",
       "3              27016     Chantada, Lugo  \n",
       "4              27016     Chantada, Lugo  "
      ]
     },
     "execution_count": 6,
     "metadata": {},
     "output_type": "execute_result"
    }
   ],
   "source": [
    "df['recipient_location'] = df.apply(lambda x: '%s, %s' % (x['MUNICIPIO'].split(' - ')[1], x['PROVINCIA']), 1)\n",
    "df.head()"
   ]
  },
  {
   "cell_type": "code",
   "execution_count": 7,
   "metadata": {
    "collapsed": false
   },
   "outputs": [
    {
     "data": {
      "text/html": [
       "<div>\n",
       "<table border=\"1\" class=\"dataframe\">\n",
       "  <thead>\n",
       "    <tr style=\"text-align: right;\">\n",
       "      <th></th>\n",
       "      <th>recipient_name</th>\n",
       "      <th>scheme</th>\n",
       "      <th>amount</th>\n",
       "      <th>recipient_postcode</th>\n",
       "      <th>recipient_location</th>\n",
       "      <th>country</th>\n",
       "      <th>currency</th>\n",
       "      <th>recipient_id</th>\n",
       "    </tr>\n",
       "  </thead>\n",
       "  <tbody>\n",
       "    <tr>\n",
       "      <th>0</th>\n",
       "      <td>A BOUCIÑA S.C.</td>\n",
       "      <td>I.1   Single payment scheme</td>\n",
       "      <td>17105.53</td>\n",
       "      <td>15074</td>\n",
       "      <td>Rois, A Coruña</td>\n",
       "      <td>ES</td>\n",
       "      <td>EUR</td>\n",
       "      <td>ES-15074-a-boucina-s-c</td>\n",
       "    </tr>\n",
       "    <tr>\n",
       "      <th>1</th>\n",
       "      <td>A BOUCIÑA S.C.</td>\n",
       "      <td>I.7   Specific support</td>\n",
       "      <td>2830.77</td>\n",
       "      <td>15074</td>\n",
       "      <td>Rois, A Coruña</td>\n",
       "      <td>ES</td>\n",
       "      <td>EUR</td>\n",
       "      <td>ES-15074-a-boucina-s-c</td>\n",
       "    </tr>\n",
       "    <tr>\n",
       "      <th>2</th>\n",
       "      <td>A CABADA SC</td>\n",
       "      <td>I.1   Single payment scheme</td>\n",
       "      <td>9416.07</td>\n",
       "      <td>27016</td>\n",
       "      <td>Chantada, Lugo</td>\n",
       "      <td>ES</td>\n",
       "      <td>EUR</td>\n",
       "      <td>ES-27016-a-cabada-sc</td>\n",
       "    </tr>\n",
       "    <tr>\n",
       "      <th>3</th>\n",
       "      <td>A CABADA SC</td>\n",
       "      <td>I.7   Specific support</td>\n",
       "      <td>4241.00</td>\n",
       "      <td>27016</td>\n",
       "      <td>Chantada, Lugo</td>\n",
       "      <td>ES</td>\n",
       "      <td>EUR</td>\n",
       "      <td>ES-27016-a-cabada-sc</td>\n",
       "    </tr>\n",
       "    <tr>\n",
       "      <th>4</th>\n",
       "      <td>A CABADA SC</td>\n",
       "      <td>V/B.2.4   Agri-environment payments [Med.214]</td>\n",
       "      <td>9538.68</td>\n",
       "      <td>27016</td>\n",
       "      <td>Chantada, Lugo</td>\n",
       "      <td>ES</td>\n",
       "      <td>EUR</td>\n",
       "      <td>ES-27016-a-cabada-sc</td>\n",
       "    </tr>\n",
       "  </tbody>\n",
       "</table>\n",
       "</div>"
      ],
      "text/plain": [
       "   recipient_name                                         scheme    amount  \\\n",
       "0  A BOUCIÑA S.C.                   I.1   Single payment scheme   17105.53   \n",
       "1  A BOUCIÑA S.C.                         I.7   Specific support   2830.77   \n",
       "2     A CABADA SC                   I.1   Single payment scheme    9416.07   \n",
       "3     A CABADA SC                         I.7   Specific support   4241.00   \n",
       "4     A CABADA SC  V/B.2.4   Agri-environment payments [Med.214]   9538.68   \n",
       "\n",
       "  recipient_postcode recipient_location country currency  \\\n",
       "0              15074     Rois, A Coruña      ES      EUR   \n",
       "1              15074     Rois, A Coruña      ES      EUR   \n",
       "2              27016     Chantada, Lugo      ES      EUR   \n",
       "3              27016     Chantada, Lugo      ES      EUR   \n",
       "4              27016     Chantada, Lugo      ES      EUR   \n",
       "\n",
       "             recipient_id  \n",
       "0  ES-15074-a-boucina-s-c  \n",
       "1  ES-15074-a-boucina-s-c  \n",
       "2    ES-27016-a-cabada-sc  \n",
       "3    ES-27016-a-cabada-sc  \n",
       "4    ES-27016-a-cabada-sc  "
      ]
     },
     "execution_count": 7,
     "metadata": {},
     "output_type": "execute_result"
    }
   ],
   "source": [
    "from slugify import slugify\n",
    "\n",
    "df = df.rename(columns={\n",
    "    'BENEFICIARIO': 'recipient_name',\n",
    "    'MEDIDA': 'scheme',\n",
    "})\n",
    "df = df.drop(['PROVINCIA', 'MUNICIPIO', 'IMPORTE_EUROS'], 1)\n",
    "df['country'] = 'ES'\n",
    "df['currency'] = 'EUR'\n",
    "df['recipient_id'] = df.apply(lambda x: 'ES-%s-%s' % (x['recipient_postcode'], slugify(x['recipient_name'])), 1)\n",
    "df.head()"
   ]
  },
  {
   "cell_type": "code",
   "execution_count": 8,
   "metadata": {
    "collapsed": true
   },
   "outputs": [],
   "source": [
    "df['year'] = 2014"
   ]
  },
  {
   "cell_type": "code",
   "execution_count": 9,
   "metadata": {
    "collapsed": true
   },
   "outputs": [],
   "source": [
    "df.to_csv('es_2014.csv', index=False, encoding='utf-8')"
   ]
  }
 ],
 "metadata": {
  "kernelspec": {
   "display_name": "Python 2",
   "language": "python",
   "name": "python2"
  },
  "language_info": {
   "codemirror_mode": {
    "name": "ipython",
    "version": 2
   },
   "file_extension": ".py",
   "mimetype": "text/x-python",
   "name": "python",
   "nbconvert_exporter": "python",
   "pygments_lexer": "ipython2",
   "version": "2.7.11"
  }
 },
 "nbformat": 4,
 "nbformat_minor": 0
}
