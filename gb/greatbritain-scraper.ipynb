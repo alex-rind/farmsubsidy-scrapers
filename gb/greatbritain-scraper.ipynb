{
 "cells": [
  {
   "cell_type": "code",
   "execution_count": 1,
   "metadata": {
    "collapsed": true
   },
   "outputs": [],
   "source": [
    "import pandas as pd"
   ]
  },
  {
   "cell_type": "code",
   "execution_count": 2,
   "metadata": {
    "collapsed": false
   },
   "outputs": [
    {
     "name": "stdout",
     "output_type": "stream",
     "text": [
      "File '2014_All_CAP_Search_Results_Data_P14.xls' already there; not retrieving.\r\n",
      "\r\n"
     ]
    }
   ],
   "source": [
    "!wget -nc \"http://cap-payments.defra.gov.uk/Download/2014_All_CAP_Search_Results_Data_P14.xls\""
   ]
  },
  {
   "cell_type": "code",
   "execution_count": 3,
   "metadata": {
    "collapsed": false
   },
   "outputs": [],
   "source": [
    "excel_file = pd.ExcelFile('2014_All_CAP_Search_Results_Data_P14.xls')"
   ]
  },
  {
   "cell_type": "code",
   "execution_count": 4,
   "metadata": {
    "collapsed": false
   },
   "outputs": [
    {
     "data": {
      "text/html": [
       "<div>\n",
       "<table border=\"1\" class=\"dataframe\">\n",
       "  <thead>\n",
       "    <tr style=\"text-align: right;\">\n",
       "      <th></th>\n",
       "      <th>Year</th>\n",
       "      <th>BeneficiaryCode</th>\n",
       "      <th>BeneficiaryName_F201</th>\n",
       "      <th>PostcodePrefix_F202B</th>\n",
       "      <th>TownCity_F202C</th>\n",
       "      <th>PayingAgencyLink</th>\n",
       "      <th>scheme</th>\n",
       "      <th>amount</th>\n",
       "    </tr>\n",
       "  </thead>\n",
       "  <tbody>\n",
       "    <tr>\n",
       "      <th>415</th>\n",
       "      <td>2014.0</td>\n",
       "      <td>1007209.0</td>\n",
       "      <td>*******</td>\n",
       "      <td>BT46</td>\n",
       "      <td>MAGHERA</td>\n",
       "      <td>DARDNI</td>\n",
       "      <td>Additional amounts of aid</td>\n",
       "      <td>43.59</td>\n",
       "    </tr>\n",
       "    <tr>\n",
       "      <th>902</th>\n",
       "      <td>2014.0</td>\n",
       "      <td>1181623.0</td>\n",
       "      <td>*******</td>\n",
       "      <td>BT37</td>\n",
       "      <td>NEWTOWNABBEY</td>\n",
       "      <td>DARDNI</td>\n",
       "      <td>Additional amounts of aid</td>\n",
       "      <td>36.79</td>\n",
       "    </tr>\n",
       "    <tr>\n",
       "      <th>1316</th>\n",
       "      <td>2014.0</td>\n",
       "      <td>1203672.0</td>\n",
       "      <td>*******</td>\n",
       "      <td>BT80</td>\n",
       "      <td>COOKSTOWN</td>\n",
       "      <td>DARDNI</td>\n",
       "      <td>Additional amounts of aid</td>\n",
       "      <td>23.96</td>\n",
       "    </tr>\n",
       "    <tr>\n",
       "      <th>2786</th>\n",
       "      <td>2014.0</td>\n",
       "      <td>1002313.0</td>\n",
       "      <td>*******</td>\n",
       "      <td>BT41</td>\n",
       "      <td>ANTRIM</td>\n",
       "      <td>DARDNI</td>\n",
       "      <td>Additional amounts of aid</td>\n",
       "      <td>16.65</td>\n",
       "    </tr>\n",
       "    <tr>\n",
       "      <th>4266</th>\n",
       "      <td>2014.0</td>\n",
       "      <td>1289780.0</td>\n",
       "      <td>*******</td>\n",
       "      <td>BT34</td>\n",
       "      <td>NEWRY</td>\n",
       "      <td>DARDNI</td>\n",
       "      <td>Additional amounts of aid</td>\n",
       "      <td>14.15</td>\n",
       "    </tr>\n",
       "  </tbody>\n",
       "</table>\n",
       "</div>"
      ],
      "text/plain": [
       "        Year  BeneficiaryCode BeneficiaryName_F201 PostcodePrefix_F202B  \\\n",
       "415   2014.0        1007209.0              *******                 BT46   \n",
       "902   2014.0        1181623.0              *******                 BT37   \n",
       "1316  2014.0        1203672.0              *******                 BT80   \n",
       "2786  2014.0        1002313.0              *******                 BT41   \n",
       "4266  2014.0        1289780.0              *******                 BT34   \n",
       "\n",
       "     TownCity_F202C PayingAgencyLink                     scheme  amount  \n",
       "415         MAGHERA           DARDNI  Additional amounts of aid   43.59  \n",
       "902    NEWTOWNABBEY           DARDNI  Additional amounts of aid   36.79  \n",
       "1316      COOKSTOWN           DARDNI  Additional amounts of aid   23.96  \n",
       "2786         ANTRIM           DARDNI  Additional amounts of aid   16.65  \n",
       "4266          NEWRY           DARDNI  Additional amounts of aid   14.15  "
      ]
     },
     "execution_count": 4,
     "metadata": {},
     "output_type": "execute_result"
    }
   ],
   "source": [
    "id_vars = ['Year', 'BeneficiaryCode', 'BeneficiaryName_F201',\n",
    "       'PostcodePrefix_F202B', 'TownCity_F202C',\n",
    "#        'OtherEAGFTotal', 'DirectEAGFTotal', 'RuralDevelopmentTotal', 'Total',\n",
    "        'PayingAgencyLink']\n",
    "\n",
    "\n",
    "def get_melted_df(excel_file, sheet_name):\n",
    "    df_raw = excel_file.parse(sheet_name)\n",
    "    df_raw = df_raw[df_raw['Year'].notnull()]\n",
    "    all_columns = list(df_raw.columns)\n",
    "    value_vars = list(set(all_columns) - set(id_vars))\n",
    "    df_raw = df_raw.rename(columns={x: x.strip() for x in value_vars})\n",
    "    value_vars = [v.strip() for v in value_vars]\n",
    "    df = pd.melt(df_raw, id_vars=id_vars, value_vars=value_vars, var_name='scheme', value_name='amount')\n",
    "    df = df[df['amount'].notnull()]\n",
    "    return df\n",
    "\n",
    "df = pd.concat([get_melted_df(excel_file, sheet) for sheet in excel_file.sheet_names])\n",
    "df.head()"
   ]
  },
  {
   "cell_type": "code",
   "execution_count": 5,
   "metadata": {
    "collapsed": false
   },
   "outputs": [
    {
     "data": {
      "text/html": [
       "<div>\n",
       "<table border=\"1\" class=\"dataframe\">\n",
       "  <thead>\n",
       "    <tr style=\"text-align: right;\">\n",
       "      <th></th>\n",
       "      <th>year</th>\n",
       "      <th>recipient_id</th>\n",
       "      <th>recipient_name</th>\n",
       "      <th>recipient_postcode</th>\n",
       "      <th>recipient_location</th>\n",
       "      <th>agency</th>\n",
       "      <th>scheme</th>\n",
       "      <th>amount</th>\n",
       "      <th>country</th>\n",
       "      <th>currency</th>\n",
       "    </tr>\n",
       "  </thead>\n",
       "  <tbody>\n",
       "    <tr>\n",
       "      <th>415</th>\n",
       "      <td>2014</td>\n",
       "      <td>1007209.0</td>\n",
       "      <td>None</td>\n",
       "      <td>BT46</td>\n",
       "      <td>MAGHERA</td>\n",
       "      <td>DARDNI</td>\n",
       "      <td>Additional amounts of aid</td>\n",
       "      <td>43.59</td>\n",
       "      <td>GB</td>\n",
       "      <td>GBP</td>\n",
       "    </tr>\n",
       "    <tr>\n",
       "      <th>902</th>\n",
       "      <td>2014</td>\n",
       "      <td>1181623.0</td>\n",
       "      <td>None</td>\n",
       "      <td>BT37</td>\n",
       "      <td>NEWTOWNABBEY</td>\n",
       "      <td>DARDNI</td>\n",
       "      <td>Additional amounts of aid</td>\n",
       "      <td>36.79</td>\n",
       "      <td>GB</td>\n",
       "      <td>GBP</td>\n",
       "    </tr>\n",
       "    <tr>\n",
       "      <th>1316</th>\n",
       "      <td>2014</td>\n",
       "      <td>1203672.0</td>\n",
       "      <td>None</td>\n",
       "      <td>BT80</td>\n",
       "      <td>COOKSTOWN</td>\n",
       "      <td>DARDNI</td>\n",
       "      <td>Additional amounts of aid</td>\n",
       "      <td>23.96</td>\n",
       "      <td>GB</td>\n",
       "      <td>GBP</td>\n",
       "    </tr>\n",
       "    <tr>\n",
       "      <th>2786</th>\n",
       "      <td>2014</td>\n",
       "      <td>1002313.0</td>\n",
       "      <td>None</td>\n",
       "      <td>BT41</td>\n",
       "      <td>ANTRIM</td>\n",
       "      <td>DARDNI</td>\n",
       "      <td>Additional amounts of aid</td>\n",
       "      <td>16.65</td>\n",
       "      <td>GB</td>\n",
       "      <td>GBP</td>\n",
       "    </tr>\n",
       "    <tr>\n",
       "      <th>4266</th>\n",
       "      <td>2014</td>\n",
       "      <td>1289780.0</td>\n",
       "      <td>None</td>\n",
       "      <td>BT34</td>\n",
       "      <td>NEWRY</td>\n",
       "      <td>DARDNI</td>\n",
       "      <td>Additional amounts of aid</td>\n",
       "      <td>14.15</td>\n",
       "      <td>GB</td>\n",
       "      <td>GBP</td>\n",
       "    </tr>\n",
       "  </tbody>\n",
       "</table>\n",
       "</div>"
      ],
      "text/plain": [
       "      year  recipient_id recipient_name recipient_postcode recipient_location  \\\n",
       "415   2014     1007209.0           None               BT46            MAGHERA   \n",
       "902   2014     1181623.0           None               BT37       NEWTOWNABBEY   \n",
       "1316  2014     1203672.0           None               BT80          COOKSTOWN   \n",
       "2786  2014     1002313.0           None               BT41             ANTRIM   \n",
       "4266  2014     1289780.0           None               BT34              NEWRY   \n",
       "\n",
       "      agency                     scheme  amount country currency  \n",
       "415   DARDNI  Additional amounts of aid   43.59      GB      GBP  \n",
       "902   DARDNI  Additional amounts of aid   36.79      GB      GBP  \n",
       "1316  DARDNI  Additional amounts of aid   23.96      GB      GBP  \n",
       "2786  DARDNI  Additional amounts of aid   16.65      GB      GBP  \n",
       "4266  DARDNI  Additional amounts of aid   14.15      GB      GBP  "
      ]
     },
     "execution_count": 5,
     "metadata": {},
     "output_type": "execute_result"
    }
   ],
   "source": [
    "df = df.rename(columns={\n",
    "    'Year': 'year',\n",
    "    'BeneficiaryCode': 'recipient_id',\n",
    "    'BeneficiaryName_F201': 'recipient_name',\n",
    "    'PostcodePrefix_F202B': 'recipient_postcode',\n",
    "    'TownCity_F202C': 'recipient_location',\n",
    "    'PayingAgencyLink': 'agency',\n",
    "})\n",
    "df['country'] = 'GB'\n",
    "df['currency'] = 'GBP'\n",
    "df['year'] = df['year'].astype('int')\n",
    "df['recipient_name'] = df['recipient_name'].str.strip()\n",
    "df['recipient_postcode'] = df['recipient_postcode'].str.strip()\n",
    "df['recipient_location'] = df['recipient_location'].str.strip()\n",
    "df.set_value(df['recipient_id'].notnull(), 'recipient_name', None)\n",
    "df.head()"
   ]
  },
  {
   "cell_type": "code",
   "execution_count": 6,
   "metadata": {
    "collapsed": false
   },
   "outputs": [
    {
     "data": {
      "text/html": [
       "<div>\n",
       "<table border=\"1\" class=\"dataframe\">\n",
       "  <thead>\n",
       "    <tr style=\"text-align: right;\">\n",
       "      <th></th>\n",
       "      <th>year</th>\n",
       "      <th>recipient_id</th>\n",
       "      <th>recipient_name</th>\n",
       "      <th>recipient_postcode</th>\n",
       "      <th>recipient_location</th>\n",
       "      <th>agency</th>\n",
       "      <th>scheme</th>\n",
       "      <th>amount</th>\n",
       "      <th>country</th>\n",
       "      <th>currency</th>\n",
       "    </tr>\n",
       "  </thead>\n",
       "  <tbody>\n",
       "    <tr>\n",
       "      <th>415</th>\n",
       "      <td>2014</td>\n",
       "      <td>GB-1007209</td>\n",
       "      <td>None</td>\n",
       "      <td>BT46</td>\n",
       "      <td>MAGHERA</td>\n",
       "      <td>DARDNI</td>\n",
       "      <td>Additional amounts of aid</td>\n",
       "      <td>43.59</td>\n",
       "      <td>GB</td>\n",
       "      <td>GBP</td>\n",
       "    </tr>\n",
       "    <tr>\n",
       "      <th>902</th>\n",
       "      <td>2014</td>\n",
       "      <td>GB-1181623</td>\n",
       "      <td>None</td>\n",
       "      <td>BT37</td>\n",
       "      <td>NEWTOWNABBEY</td>\n",
       "      <td>DARDNI</td>\n",
       "      <td>Additional amounts of aid</td>\n",
       "      <td>36.79</td>\n",
       "      <td>GB</td>\n",
       "      <td>GBP</td>\n",
       "    </tr>\n",
       "    <tr>\n",
       "      <th>1316</th>\n",
       "      <td>2014</td>\n",
       "      <td>GB-1203672</td>\n",
       "      <td>None</td>\n",
       "      <td>BT80</td>\n",
       "      <td>COOKSTOWN</td>\n",
       "      <td>DARDNI</td>\n",
       "      <td>Additional amounts of aid</td>\n",
       "      <td>23.96</td>\n",
       "      <td>GB</td>\n",
       "      <td>GBP</td>\n",
       "    </tr>\n",
       "    <tr>\n",
       "      <th>2786</th>\n",
       "      <td>2014</td>\n",
       "      <td>GB-1002313</td>\n",
       "      <td>None</td>\n",
       "      <td>BT41</td>\n",
       "      <td>ANTRIM</td>\n",
       "      <td>DARDNI</td>\n",
       "      <td>Additional amounts of aid</td>\n",
       "      <td>16.65</td>\n",
       "      <td>GB</td>\n",
       "      <td>GBP</td>\n",
       "    </tr>\n",
       "    <tr>\n",
       "      <th>4266</th>\n",
       "      <td>2014</td>\n",
       "      <td>GB-1289780</td>\n",
       "      <td>None</td>\n",
       "      <td>BT34</td>\n",
       "      <td>NEWRY</td>\n",
       "      <td>DARDNI</td>\n",
       "      <td>Additional amounts of aid</td>\n",
       "      <td>14.15</td>\n",
       "      <td>GB</td>\n",
       "      <td>GBP</td>\n",
       "    </tr>\n",
       "  </tbody>\n",
       "</table>\n",
       "</div>"
      ],
      "text/plain": [
       "      year recipient_id recipient_name recipient_postcode recipient_location  \\\n",
       "415   2014   GB-1007209           None               BT46            MAGHERA   \n",
       "902   2014   GB-1181623           None               BT37       NEWTOWNABBEY   \n",
       "1316  2014   GB-1203672           None               BT80          COOKSTOWN   \n",
       "2786  2014   GB-1002313           None               BT41             ANTRIM   \n",
       "4266  2014   GB-1289780           None               BT34              NEWRY   \n",
       "\n",
       "      agency                     scheme  amount country currency  \n",
       "415   DARDNI  Additional amounts of aid   43.59      GB      GBP  \n",
       "902   DARDNI  Additional amounts of aid   36.79      GB      GBP  \n",
       "1316  DARDNI  Additional amounts of aid   23.96      GB      GBP  \n",
       "2786  DARDNI  Additional amounts of aid   16.65      GB      GBP  \n",
       "4266  DARDNI  Additional amounts of aid   14.15      GB      GBP  "
      ]
     },
     "execution_count": 6,
     "metadata": {},
     "output_type": "execute_result"
    }
   ],
   "source": [
    "def set_recipient_id(row):\n",
    "    if pd.isnull(row['recipient_id']):\n",
    "        row['recipient_id'] = 'GB-%s-%s' % (row['recipient_postcode'], row['recipient_name'])\n",
    "    else:\n",
    "        row['recipient_id'] = 'GB-%s' % int(row['recipient_id'])\n",
    "    return row\n",
    "\n",
    "df = df.apply(set_recipient_id, axis=1)\n",
    "df.head()"
   ]
  },
  {
   "cell_type": "code",
   "execution_count": 7,
   "metadata": {
    "collapsed": false
   },
   "outputs": [
    {
     "data": {
      "text/plain": [
       "1085257"
      ]
     },
     "execution_count": 7,
     "metadata": {},
     "output_type": "execute_result"
    }
   ],
   "source": [
    "len(df)"
   ]
  },
  {
   "cell_type": "code",
   "execution_count": 8,
   "metadata": {
    "collapsed": false
   },
   "outputs": [
    {
     "data": {
      "text/plain": [
       "GB-BT24-THE NATIONAL TRUST                       54\n",
       "GB-BT79-MR MICHAEL MCCULLAGH                     33\n",
       "GB-HS6-Mr A Macdonald                            30\n",
       "GB-BT60-MR PATRICK HUGHES                        25\n",
       "GB-BT35-MR MICHAEL MCPARLAND                     25\n",
       "GB-HS2-DONALD MACLEOD                            25\n",
       "GB-BT93-MR PATRICK MAGUIRE                       24\n",
       "GB-BT79-MR PETER MCCULLAGH                       24\n",
       "GB-BT79-MR PATRICK MCCULLAGH                     24\n",
       "GB-LL53-MESSRS WILLIAMS                          24\n",
       "GB-BT70-MR BRIAN QUINN                           22\n",
       "GB-NP26-MONMOUTHSHIRE COUNTY COUNCIL             21\n",
       "GB-BT92-MR THOMAS MAGUIRE                        21\n",
       "GB-BT79-MR MARTIN KELLY                          20\n",
       "GB-BT70-MR PATRICK DONNELLY                      20\n",
       "GB-BT60-MR MICHAEL HUGHES                        19\n",
       "GB-BT60-MR JOHN HUGHES                           19\n",
       "GB-NE61-NORTHUMBERLAND COUNTY COUNCIL            19\n",
       "GB-BT78-MR JOSEPH TEAGUE                         18\n",
       "GB-BT79-MR PATRICK FOX                           18\n",
       "GB-BT77-MR PATRICK MCKENNA                       18\n",
       "GB-BT92-MR JOHN MAGUIRE                          18\n",
       "GB-SA31-CARMARTHENSHIRE COUNTY COUNCIL           18\n",
       "GB-WR5-WORCESTERSHIRE COUNTY COUNCIL             18\n",
       "GB-BT44-MR PATRICK O'KANE                        18\n",
       "GB-BT41-MR JOHN MCNEILLY                         17\n",
       "GB-BT92-MR MICHAEL MURRAY                        17\n",
       "GB-BT60-MR THOMAS MCNALLY                        17\n",
       "GB-BT35-MR SEAN QUINN                            17\n",
       "GB-PR3-W & AE Cornall                            17\n",
       "                                                 ..\n",
       "GB-YO41-HUSBAND R.S                               5\n",
       "GB-ROI-MR KENNETH CONDELL                         5\n",
       "GB-1264483                                        5\n",
       "GB-1116438                                        5\n",
       "GB-1116439                                        5\n",
       "GB-NP25-EVANS & SON DE                            5\n",
       "GB-1264488                                        5\n",
       "GB-NG12-GN & KL Cutts                             5\n",
       "GB-CW9-B T MADDOCK                                5\n",
       "GB-1263457                                        5\n",
       "GB-1089194                                        5\n",
       "GB-1089195                                        5\n",
       "GB-CH64-David Hulse                               5\n",
       "GB-1306455                                        5\n",
       "GB-YO15-STAINFORTH J M                            5\n",
       "GB-SO16-Mr G Clements                             5\n",
       "GB-PE36-Ken Hill Estate and Farms                 5\n",
       "GB-CA10-M W GREENOP                               5\n",
       "GB-LA14-E & SM HALPIN                             5\n",
       "GB-ST14-C J WHITTAKER & SONS                      5\n",
       "GB-1328498                                        5\n",
       "GB-WR6-LB MORLEY                                  5\n",
       "GB-CA7-Mrs V Eilbeck                              5\n",
       "GB-NE18-The Granary North Lough Farm Hawkwell     5\n",
       "GB-DT2-WG Spencer T/AS Mooncat Barn Farm          5\n",
       "GB-TN30-BROWN B D                                 5\n",
       "GB-SY7-COOPER I L                                 5\n",
       "GB-HR6-PATRICK M.S. & E.M.                        5\n",
       "GB-1283722                                        5\n",
       "GB-BD13-S & N V JOWETT                            5\n",
       "Name: recipient_id, dtype: int64"
      ]
     },
     "execution_count": 8,
     "metadata": {},
     "output_type": "execute_result"
    }
   ],
   "source": [
    "df['recipient_id'].value_counts()"
   ]
  },
  {
   "cell_type": "code",
   "execution_count": 9,
   "metadata": {
    "collapsed": false
   },
   "outputs": [],
   "source": [
    "df.to_csv('gb_2014.csv', index=False, encoding='utf-8')"
   ]
  }
 ],
 "metadata": {
  "kernelspec": {
   "display_name": "Python 2",
   "language": "python",
   "name": "python2"
  },
  "language_info": {
   "codemirror_mode": {
    "name": "ipython",
    "version": 2
   },
   "file_extension": ".py",
   "mimetype": "text/x-python",
   "name": "python",
   "nbconvert_exporter": "python",
   "pygments_lexer": "ipython2",
   "version": "2.7.11"
  }
 },
 "nbformat": 4,
 "nbformat_minor": 0
}
