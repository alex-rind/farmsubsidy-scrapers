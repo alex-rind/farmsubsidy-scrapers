{
 "cells": [
  {
   "cell_type": "code",
   "execution_count": 3,
   "metadata": {
    "collapsed": true
   },
   "outputs": [],
   "source": [
    "import pandas as pd"
   ]
  },
  {
   "cell_type": "code",
   "execution_count": 2,
   "metadata": {
    "collapsed": false
   },
   "outputs": [
    {
     "name": "stdout",
     "output_type": "stream",
     "text": [
      "File '2014_All_CAP_Search_Results_Data_P14.xls' already there; not retrieving.\r\n",
      "\r\n"
     ]
    }
   ],
   "source": [
    "!wget -nc \"http://cap-payments.defra.gov.uk/Download/2014_All_CAP_Search_Results_Data_P14.xls\""
   ]
  },
  {
   "cell_type": "code",
   "execution_count": 1,
   "metadata": {
    "collapsed": false
   },
   "outputs": [
    {
     "name": "stdout",
     "output_type": "stream",
     "text": [
      "--2016-06-02 12:01:45--  http://cap-payments.defra.gov.uk/Download/2015_All_CAP_Search_Results_Data_P14.xls\n",
      "Resolving cap-payments.defra.gov.uk... 194.1.210.50\n",
      "Connecting to cap-payments.defra.gov.uk|194.1.210.50|:80... connected.\n",
      "HTTP request sent, awaiting response... 200 OK\n",
      "Length: 33282560 (32M) [application/vnd.ms-excel]\n",
      "Saving to: '2015_All_CAP_Search_Results_Data_P14.xls'\n",
      "\n",
      "2015_All_CAP_Search 100%[===================>]  31.74M  1.91MB/s    in 12s     \n",
      "\n",
      "2016-06-02 12:01:57 (2.72 MB/s) - '2015_All_CAP_Search_Results_Data_P14.xls' saved [33282560/33282560]\n",
      "\n"
     ]
    }
   ],
   "source": [
    "!wget -nc \"http://cap-payments.defra.gov.uk/Download/2015_All_CAP_Search_Results_Data_P14.xls\""
   ]
  },
  {
   "cell_type": "code",
   "execution_count": 26,
   "metadata": {
    "collapsed": true
   },
   "outputs": [],
   "source": [
    "YEAR = 2015"
   ]
  },
  {
   "cell_type": "code",
   "execution_count": 19,
   "metadata": {
    "collapsed": false
   },
   "outputs": [],
   "source": [
    "excel_file = pd.ExcelFile('%s_All_CAP_Search_Results_Data_P14.xls' % YEAR)"
   ]
  },
  {
   "cell_type": "code",
   "execution_count": 20,
   "metadata": {
    "collapsed": false
   },
   "outputs": [
    {
     "data": {
      "text/html": [
       "<div>\n",
       "<table border=\"1\" class=\"dataframe\">\n",
       "  <thead>\n",
       "    <tr style=\"text-align: right;\">\n",
       "      <th></th>\n",
       "      <th>Year</th>\n",
       "      <th>BeneficiaryCode</th>\n",
       "      <th>BeneficiaryName_F201</th>\n",
       "      <th>PostcodePrefix_F202B</th>\n",
       "      <th>TownCity_F202C</th>\n",
       "      <th>PayingAgencyLink</th>\n",
       "      <th>scheme</th>\n",
       "      <th>amount</th>\n",
       "    </tr>\n",
       "  </thead>\n",
       "  <tbody>\n",
       "    <tr>\n",
       "      <th>9552</th>\n",
       "      <td>2014.0</td>\n",
       "      <td>NaN</td>\n",
       "      <td>CALEDON ESTATES CO</td>\n",
       "      <td>BT68</td>\n",
       "      <td>CALEDON</td>\n",
       "      <td>DARDNI</td>\n",
       "      <td>Non-productive investments</td>\n",
       "      <td>2900.0</td>\n",
       "    </tr>\n",
       "    <tr>\n",
       "      <th>9567</th>\n",
       "      <td>2014.0</td>\n",
       "      <td>NaN</td>\n",
       "      <td>CARRICKFERGUS BOROUGH COUNCIL</td>\n",
       "      <td>BT38</td>\n",
       "      <td>CARRICKFERGUS</td>\n",
       "      <td>DARDNI</td>\n",
       "      <td>Non-productive investments</td>\n",
       "      <td>1580.0</td>\n",
       "    </tr>\n",
       "    <tr>\n",
       "      <th>9755</th>\n",
       "      <td>2014.0</td>\n",
       "      <td>NaN</td>\n",
       "      <td>DR S PETER FITZGERALD</td>\n",
       "      <td>BT29</td>\n",
       "      <td>CRUMLIN</td>\n",
       "      <td>DARDNI</td>\n",
       "      <td>Non-productive investments</td>\n",
       "      <td>3000.0</td>\n",
       "    </tr>\n",
       "    <tr>\n",
       "      <th>9781</th>\n",
       "      <td>2014.0</td>\n",
       "      <td>NaN</td>\n",
       "      <td>DUNLEATH ESTATES LTD</td>\n",
       "      <td>BT22</td>\n",
       "      <td>NEWTOWNARDS</td>\n",
       "      <td>DARDNI</td>\n",
       "      <td>Non-productive investments</td>\n",
       "      <td>912.5</td>\n",
       "    </tr>\n",
       "    <tr>\n",
       "      <th>114028</th>\n",
       "      <td>2014.0</td>\n",
       "      <td>1219336.0</td>\n",
       "      <td>*******</td>\n",
       "      <td>BT62</td>\n",
       "      <td>CRAIGAVON</td>\n",
       "      <td>DARDNI</td>\n",
       "      <td>First afforestation of agricultural land</td>\n",
       "      <td>267.8</td>\n",
       "    </tr>\n",
       "  </tbody>\n",
       "</table>\n",
       "</div>"
      ],
      "text/plain": [
       "          Year  BeneficiaryCode           BeneficiaryName_F201  \\\n",
       "9552    2014.0              NaN             CALEDON ESTATES CO   \n",
       "9567    2014.0              NaN  CARRICKFERGUS BOROUGH COUNCIL   \n",
       "9755    2014.0              NaN          DR S PETER FITZGERALD   \n",
       "9781    2014.0              NaN           DUNLEATH ESTATES LTD   \n",
       "114028  2014.0        1219336.0                        *******   \n",
       "\n",
       "       PostcodePrefix_F202B TownCity_F202C PayingAgencyLink  \\\n",
       "9552                   BT68        CALEDON           DARDNI   \n",
       "9567                   BT38  CARRICKFERGUS           DARDNI   \n",
       "9755                   BT29        CRUMLIN           DARDNI   \n",
       "9781                   BT22    NEWTOWNARDS           DARDNI   \n",
       "114028                 BT62      CRAIGAVON           DARDNI   \n",
       "\n",
       "                                          scheme  amount  \n",
       "9552                  Non-productive investments  2900.0  \n",
       "9567                  Non-productive investments  1580.0  \n",
       "9755                  Non-productive investments  3000.0  \n",
       "9781                  Non-productive investments   912.5  \n",
       "114028  First afforestation of agricultural land   267.8  "
      ]
     },
     "execution_count": 20,
     "metadata": {},
     "output_type": "execute_result"
    }
   ],
   "source": [
    "id_vars = ['Year', 'BeneficiaryCode', 'BeneficiaryName_F201',\n",
    "       'PostcodePrefix_F202B', 'TownCity_F202C',\n",
    "#        'OtherEAGFTotal', 'DirectEAGFTotal', 'RuralDevelopmentTotal', 'Total',\n",
    "        'PayingAgencyLink']\n",
    "\n",
    "\n",
    "def get_melted_df(excel_file, sheet_name):\n",
    "    df_raw = excel_file.parse(sheet_name)\n",
    "    df_raw = df_raw[df_raw['Year'].notnull()]\n",
    "    all_columns = list(df_raw.columns)\n",
    "    value_vars = list(set(all_columns) - set(id_vars))\n",
    "    df_raw = df_raw.rename(columns={x: x.strip() for x in value_vars})\n",
    "    value_vars = [v.strip() for v in value_vars]\n",
    "    df = pd.melt(df_raw, id_vars=id_vars, value_vars=value_vars, var_name='scheme', value_name='amount')\n",
    "    df = df[df['amount'].notnull()]\n",
    "    return df\n",
    "\n",
    "df = pd.concat([get_melted_df(excel_file, sheet) for sheet in excel_file.sheet_names])\n",
    "df.head()"
   ]
  },
  {
   "cell_type": "code",
   "execution_count": 21,
   "metadata": {
    "collapsed": false
   },
   "outputs": [
    {
     "data": {
      "text/html": [
       "<div>\n",
       "<table border=\"1\" class=\"dataframe\">\n",
       "  <thead>\n",
       "    <tr style=\"text-align: right;\">\n",
       "      <th></th>\n",
       "      <th>year</th>\n",
       "      <th>recipient_id</th>\n",
       "      <th>recipient_name</th>\n",
       "      <th>recipient_postcode</th>\n",
       "      <th>recipient_location</th>\n",
       "      <th>agency</th>\n",
       "      <th>scheme</th>\n",
       "      <th>amount</th>\n",
       "      <th>country</th>\n",
       "      <th>currency</th>\n",
       "    </tr>\n",
       "  </thead>\n",
       "  <tbody>\n",
       "    <tr>\n",
       "      <th>9552</th>\n",
       "      <td>2014</td>\n",
       "      <td>NaN</td>\n",
       "      <td>CALEDON ESTATES CO</td>\n",
       "      <td>BT68</td>\n",
       "      <td>CALEDON</td>\n",
       "      <td>DARDNI</td>\n",
       "      <td>Non-productive investments</td>\n",
       "      <td>2900.0</td>\n",
       "      <td>GB</td>\n",
       "      <td>GBP</td>\n",
       "    </tr>\n",
       "    <tr>\n",
       "      <th>9567</th>\n",
       "      <td>2014</td>\n",
       "      <td>NaN</td>\n",
       "      <td>CARRICKFERGUS BOROUGH COUNCIL</td>\n",
       "      <td>BT38</td>\n",
       "      <td>CARRICKFERGUS</td>\n",
       "      <td>DARDNI</td>\n",
       "      <td>Non-productive investments</td>\n",
       "      <td>1580.0</td>\n",
       "      <td>GB</td>\n",
       "      <td>GBP</td>\n",
       "    </tr>\n",
       "    <tr>\n",
       "      <th>9755</th>\n",
       "      <td>2014</td>\n",
       "      <td>NaN</td>\n",
       "      <td>DR S PETER FITZGERALD</td>\n",
       "      <td>BT29</td>\n",
       "      <td>CRUMLIN</td>\n",
       "      <td>DARDNI</td>\n",
       "      <td>Non-productive investments</td>\n",
       "      <td>3000.0</td>\n",
       "      <td>GB</td>\n",
       "      <td>GBP</td>\n",
       "    </tr>\n",
       "    <tr>\n",
       "      <th>9781</th>\n",
       "      <td>2014</td>\n",
       "      <td>NaN</td>\n",
       "      <td>DUNLEATH ESTATES LTD</td>\n",
       "      <td>BT22</td>\n",
       "      <td>NEWTOWNARDS</td>\n",
       "      <td>DARDNI</td>\n",
       "      <td>Non-productive investments</td>\n",
       "      <td>912.5</td>\n",
       "      <td>GB</td>\n",
       "      <td>GBP</td>\n",
       "    </tr>\n",
       "    <tr>\n",
       "      <th>114028</th>\n",
       "      <td>2014</td>\n",
       "      <td>1219336.0</td>\n",
       "      <td>None</td>\n",
       "      <td>BT62</td>\n",
       "      <td>CRAIGAVON</td>\n",
       "      <td>DARDNI</td>\n",
       "      <td>First afforestation of agricultural land</td>\n",
       "      <td>267.8</td>\n",
       "      <td>GB</td>\n",
       "      <td>GBP</td>\n",
       "    </tr>\n",
       "  </tbody>\n",
       "</table>\n",
       "</div>"
      ],
      "text/plain": [
       "        year  recipient_id                 recipient_name recipient_postcode  \\\n",
       "9552    2014           NaN             CALEDON ESTATES CO               BT68   \n",
       "9567    2014           NaN  CARRICKFERGUS BOROUGH COUNCIL               BT38   \n",
       "9755    2014           NaN          DR S PETER FITZGERALD               BT29   \n",
       "9781    2014           NaN           DUNLEATH ESTATES LTD               BT22   \n",
       "114028  2014     1219336.0                           None               BT62   \n",
       "\n",
       "       recipient_location  agency                                    scheme  \\\n",
       "9552              CALEDON  DARDNI                Non-productive investments   \n",
       "9567        CARRICKFERGUS  DARDNI                Non-productive investments   \n",
       "9755              CRUMLIN  DARDNI                Non-productive investments   \n",
       "9781          NEWTOWNARDS  DARDNI                Non-productive investments   \n",
       "114028          CRAIGAVON  DARDNI  First afforestation of agricultural land   \n",
       "\n",
       "        amount country currency  \n",
       "9552    2900.0      GB      GBP  \n",
       "9567    1580.0      GB      GBP  \n",
       "9755    3000.0      GB      GBP  \n",
       "9781     912.5      GB      GBP  \n",
       "114028   267.8      GB      GBP  "
      ]
     },
     "execution_count": 21,
     "metadata": {},
     "output_type": "execute_result"
    }
   ],
   "source": [
    "df = df.rename(columns={\n",
    "    'Year': 'year',\n",
    "    'BeneficiaryCode': 'recipient_id',\n",
    "    'BeneficiaryName_F201': 'recipient_name',\n",
    "    'PostcodePrefix_F202B': 'recipient_postcode',\n",
    "    'TownCity_F202C': 'recipient_location',\n",
    "    'PayingAgencyLink': 'agency',\n",
    "})\n",
    "df['country'] = 'GB'\n",
    "df['currency'] = 'GBP'\n",
    "df['year'] = df['year'].astype('int')\n",
    "df['recipient_name'] = df['recipient_name'].str.strip()\n",
    "df['recipient_postcode'] = df['recipient_postcode'].str.strip()\n",
    "df['recipient_location'] = df['recipient_location'].str.strip()\n",
    "df.set_value(df['recipient_id'].notnull(), 'recipient_name', None)\n",
    "df.head()"
   ]
  },
  {
   "cell_type": "code",
   "execution_count": 22,
   "metadata": {
    "collapsed": false
   },
   "outputs": [
    {
     "data": {
      "text/html": [
       "<div>\n",
       "<table border=\"1\" class=\"dataframe\">\n",
       "  <thead>\n",
       "    <tr style=\"text-align: right;\">\n",
       "      <th></th>\n",
       "      <th>year</th>\n",
       "      <th>recipient_id</th>\n",
       "      <th>recipient_name</th>\n",
       "      <th>recipient_postcode</th>\n",
       "      <th>recipient_location</th>\n",
       "      <th>agency</th>\n",
       "      <th>scheme</th>\n",
       "      <th>amount</th>\n",
       "      <th>country</th>\n",
       "      <th>currency</th>\n",
       "    </tr>\n",
       "  </thead>\n",
       "  <tbody>\n",
       "    <tr>\n",
       "      <th>9552</th>\n",
       "      <td>2014</td>\n",
       "      <td>GB-BT68-CALEDON ESTATES CO</td>\n",
       "      <td>CALEDON ESTATES CO</td>\n",
       "      <td>BT68</td>\n",
       "      <td>CALEDON</td>\n",
       "      <td>DARDNI</td>\n",
       "      <td>Non-productive investments</td>\n",
       "      <td>2900.0</td>\n",
       "      <td>GB</td>\n",
       "      <td>GBP</td>\n",
       "    </tr>\n",
       "    <tr>\n",
       "      <th>9567</th>\n",
       "      <td>2014</td>\n",
       "      <td>GB-BT38-CARRICKFERGUS BOROUGH COUNCIL</td>\n",
       "      <td>CARRICKFERGUS BOROUGH COUNCIL</td>\n",
       "      <td>BT38</td>\n",
       "      <td>CARRICKFERGUS</td>\n",
       "      <td>DARDNI</td>\n",
       "      <td>Non-productive investments</td>\n",
       "      <td>1580.0</td>\n",
       "      <td>GB</td>\n",
       "      <td>GBP</td>\n",
       "    </tr>\n",
       "    <tr>\n",
       "      <th>9755</th>\n",
       "      <td>2014</td>\n",
       "      <td>GB-BT29-DR S PETER FITZGERALD</td>\n",
       "      <td>DR S PETER FITZGERALD</td>\n",
       "      <td>BT29</td>\n",
       "      <td>CRUMLIN</td>\n",
       "      <td>DARDNI</td>\n",
       "      <td>Non-productive investments</td>\n",
       "      <td>3000.0</td>\n",
       "      <td>GB</td>\n",
       "      <td>GBP</td>\n",
       "    </tr>\n",
       "    <tr>\n",
       "      <th>9781</th>\n",
       "      <td>2014</td>\n",
       "      <td>GB-BT22-DUNLEATH ESTATES LTD</td>\n",
       "      <td>DUNLEATH ESTATES LTD</td>\n",
       "      <td>BT22</td>\n",
       "      <td>NEWTOWNARDS</td>\n",
       "      <td>DARDNI</td>\n",
       "      <td>Non-productive investments</td>\n",
       "      <td>912.5</td>\n",
       "      <td>GB</td>\n",
       "      <td>GBP</td>\n",
       "    </tr>\n",
       "    <tr>\n",
       "      <th>114028</th>\n",
       "      <td>2014</td>\n",
       "      <td>GB-1219336</td>\n",
       "      <td>None</td>\n",
       "      <td>BT62</td>\n",
       "      <td>CRAIGAVON</td>\n",
       "      <td>DARDNI</td>\n",
       "      <td>First afforestation of agricultural land</td>\n",
       "      <td>267.8</td>\n",
       "      <td>GB</td>\n",
       "      <td>GBP</td>\n",
       "    </tr>\n",
       "  </tbody>\n",
       "</table>\n",
       "</div>"
      ],
      "text/plain": [
       "        year                           recipient_id  \\\n",
       "9552    2014             GB-BT68-CALEDON ESTATES CO   \n",
       "9567    2014  GB-BT38-CARRICKFERGUS BOROUGH COUNCIL   \n",
       "9755    2014          GB-BT29-DR S PETER FITZGERALD   \n",
       "9781    2014           GB-BT22-DUNLEATH ESTATES LTD   \n",
       "114028  2014                             GB-1219336   \n",
       "\n",
       "                       recipient_name recipient_postcode recipient_location  \\\n",
       "9552               CALEDON ESTATES CO               BT68            CALEDON   \n",
       "9567    CARRICKFERGUS BOROUGH COUNCIL               BT38      CARRICKFERGUS   \n",
       "9755            DR S PETER FITZGERALD               BT29            CRUMLIN   \n",
       "9781             DUNLEATH ESTATES LTD               BT22        NEWTOWNARDS   \n",
       "114028                           None               BT62          CRAIGAVON   \n",
       "\n",
       "        agency                                    scheme  amount country  \\\n",
       "9552    DARDNI                Non-productive investments  2900.0      GB   \n",
       "9567    DARDNI                Non-productive investments  1580.0      GB   \n",
       "9755    DARDNI                Non-productive investments  3000.0      GB   \n",
       "9781    DARDNI                Non-productive investments   912.5      GB   \n",
       "114028  DARDNI  First afforestation of agricultural land   267.8      GB   \n",
       "\n",
       "       currency  \n",
       "9552        GBP  \n",
       "9567        GBP  \n",
       "9755        GBP  \n",
       "9781        GBP  \n",
       "114028      GBP  "
      ]
     },
     "execution_count": 22,
     "metadata": {},
     "output_type": "execute_result"
    }
   ],
   "source": [
    "def set_recipient_id(row):\n",
    "    if pd.isnull(row['recipient_id']):\n",
    "        row['recipient_id'] = 'GB-%s-%s' % (row['recipient_postcode'], row['recipient_name'])\n",
    "    else:\n",
    "        row['recipient_id'] = 'GB-%s' % int(row['recipient_id'])\n",
    "    return row\n",
    "\n",
    "df = df.apply(set_recipient_id, axis=1)\n",
    "df.head()"
   ]
  },
  {
   "cell_type": "code",
   "execution_count": 23,
   "metadata": {
    "collapsed": false
   },
   "outputs": [
    {
     "data": {
      "text/plain": [
       "1085257"
      ]
     },
     "execution_count": 23,
     "metadata": {},
     "output_type": "execute_result"
    }
   ],
   "source": [
    "len(df)"
   ]
  },
  {
   "cell_type": "code",
   "execution_count": 24,
   "metadata": {
    "collapsed": false
   },
   "outputs": [
    {
     "data": {
      "text/plain": [
       "Single area payment scheme                                                              174828\n",
       "Agri-environment payments                                                                67393\n",
       "Payments to farmers in areas with handicaps, other than mountain areas                   25572\n",
       "First afforestation of agricultural land                                                 10169\n",
       "Other direct aids                                                                         7663\n",
       "Non-productive investments                                                                7608\n",
       "Vocational training and information actions                                               3098\n",
       "Modernisation of agricultural holdings                                                    2755\n",
       "Participation of farmers in food quality schemes                                          2746\n",
       "Infrastructure related to the development and adaptation of agriculture and forestry      2479\n",
       "Additional amounts of aid                                                                 2247\n",
       "Implementing local development strategies. Quality of life/diversification                1172\n",
       "Forest-environment payments                                                               1113\n",
       "Conservation and upgrading of the rural heritage                                           848\n",
       "Basic services for the economy and rural population                                        631\n",
       "First afforestation of non-agricultural land                                               500\n",
       "Encouragement of tourism activities                                                        478\n",
       "Use of advisory services                                                                   412\n",
       "School milk scheme                                                                         247\n",
       "Implementing local development strategies. Competitiveness                                 222\n",
       "Business creation and development                                                          213\n",
       "Adding value to agricultural and forestry products                                         186\n",
       "Implementing local development strategies. Environment/land management                     145\n",
       "Diversification into non-agricultural activities                                           103\n",
       "Running the local action group, acquiring skills and animating the territory                87\n",
       "Village renewal and development                                                             74\n",
       "Implementing cooperation projects                                                           69\n",
       "Technical Assistance                                                                        64\n",
       "Improvement of the economic value of forests                                                60\n",
       "Development of new products, processes and technologies                                     56\n",
       "Restoring agricultural production potential damaged by natural disasters                    36\n",
       "Aid in fruit and vegetables sector                                                          33\n",
       "Setting up of young farmers                                                                 32\n",
       "Skills acquisition, animation and implementation of local development strategies            23\n",
       "Training and information                                                                    15\n",
       "Animal welfare payments                                                                      6\n",
       "Promotion measures                                                                           6\n",
       "Aid for private storage                                                                      4\n",
       "Aid in the apiculture sector                                                                 2\n",
       "Export refunds                                                                               2\n",
       "Name: scheme, dtype: int64"
      ]
     },
     "execution_count": 24,
     "metadata": {},
     "output_type": "execute_result"
    }
   ],
   "source": [
    "df = df[~df['scheme'].isin([x for x in df['scheme'].value_counts().index if x.endswith('Total')])]\n",
    "df['scheme'].value_counts()"
   ]
  },
  {
   "cell_type": "code",
   "execution_count": 25,
   "metadata": {
    "collapsed": false
   },
   "outputs": [],
   "source": [
    "df.to_csv('gb_%s.csv' % YEAR, index=False, encoding='utf-8')"
   ]
  }
 ],
 "metadata": {
  "kernelspec": {
   "display_name": "Python 3",
   "language": "python",
   "name": "python3"
  },
  "language_info": {
   "codemirror_mode": {
    "name": "ipython",
    "version": 3
   },
   "file_extension": ".py",
   "mimetype": "text/x-python",
   "name": "python",
   "nbconvert_exporter": "python",
   "pygments_lexer": "ipython3",
   "version": "3.5.0"
  }
 },
 "nbformat": 4,
 "nbformat_minor": 0
}
