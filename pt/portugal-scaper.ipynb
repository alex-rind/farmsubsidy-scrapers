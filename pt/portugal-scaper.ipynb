{
 "cells": [
  {
   "cell_type": "code",
   "execution_count": 1,
   "metadata": {
    "collapsed": false
   },
   "outputs": [
    {
     "name": "stdout",
     "output_type": "stream",
     "text": [
      "File 'FEAGA_FEADER_2014.zip' already there; not retrieving.\r\n",
      "\r\n"
     ]
    }
   ],
   "source": [
    "!wget -nc https://aplj13.ifap.min-agricultura.pt/idigital.consultarFundos//pub/FEAGA_FEADER_2014.zip"
   ]
  },
  {
   "cell_type": "code",
   "execution_count": 2,
   "metadata": {
    "collapsed": true
   },
   "outputs": [],
   "source": [
    "import zipfile\n",
    "import pandas as pd"
   ]
  },
  {
   "cell_type": "code",
   "execution_count": 3,
   "metadata": {
    "collapsed": false
   },
   "outputs": [
    {
     "data": {
      "text/html": [
       "<div>\n",
       "<table border=\"1\" class=\"dataframe\">\n",
       "  <thead>\n",
       "    <tr style=\"text-align: right;\">\n",
       "      <th></th>\n",
       "      <th>Exercício</th>\n",
       "      <th>Denominação</th>\n",
       "      <th>Distrito</th>\n",
       "      <th>Concelho</th>\n",
       "      <th>Código Postal</th>\n",
       "      <th>Medida</th>\n",
       "      <th>Montante</th>\n",
       "    </tr>\n",
       "  </thead>\n",
       "  <tbody>\n",
       "    <tr>\n",
       "      <th>0</th>\n",
       "      <td>2014</td>\n",
       "      <td>\" O MORRO \" - FABRICAÇÃO DE QUEIJOS, LDA.</td>\n",
       "      <td>01</td>\n",
       "      <td>47</td>\n",
       "      <td>9900</td>\n",
       "      <td>IV/B.1.8</td>\n",
       "      <td>34378,05</td>\n",
       "    </tr>\n",
       "    <tr>\n",
       "      <th>1</th>\n",
       "      <td>2014</td>\n",
       "      <td>\" O MORRO \" - FABRICAÇÃO DE QUEIJOS, LDA.</td>\n",
       "      <td>01</td>\n",
       "      <td>47</td>\n",
       "      <td>9900</td>\n",
       "      <td>IV/B.4.3</td>\n",
       "      <td>11480,35</td>\n",
       "    </tr>\n",
       "    <tr>\n",
       "      <th>2</th>\n",
       "      <td>2014</td>\n",
       "      <td>\" O MORRO \" - FABRICAÇÃO DE QUEIJOS, LDA.</td>\n",
       "      <td>01</td>\n",
       "      <td>47</td>\n",
       "      <td>9900</td>\n",
       "      <td>Total</td>\n",
       "      <td>45858,4</td>\n",
       "    </tr>\n",
       "    <tr>\n",
       "      <th>3</th>\n",
       "      <td>2014</td>\n",
       "      <td>A &amp; D SERVIÇOS E INVESTIMENTOS LDA</td>\n",
       "      <td>02</td>\n",
       "      <td>13</td>\n",
       "      <td>4640</td>\n",
       "      <td>III.6</td>\n",
       "      <td>3211,56</td>\n",
       "    </tr>\n",
       "    <tr>\n",
       "      <th>4</th>\n",
       "      <td>2014</td>\n",
       "      <td>A &amp; D SERVIÇOS E INVESTIMENTOS LDA</td>\n",
       "      <td>02</td>\n",
       "      <td>13</td>\n",
       "      <td>4640</td>\n",
       "      <td>IV/B.1.6</td>\n",
       "      <td>7002,61</td>\n",
       "    </tr>\n",
       "  </tbody>\n",
       "</table>\n",
       "</div>"
      ],
      "text/plain": [
       "   Exercício                                Denominação Distrito Concelho  \\\n",
       "0       2014  \" O MORRO \" - FABRICAÇÃO DE QUEIJOS, LDA.       01       47   \n",
       "1       2014  \" O MORRO \" - FABRICAÇÃO DE QUEIJOS, LDA.       01       47   \n",
       "2       2014  \" O MORRO \" - FABRICAÇÃO DE QUEIJOS, LDA.       01       47   \n",
       "3       2014         A & D SERVIÇOS E INVESTIMENTOS LDA       02       13   \n",
       "4       2014         A & D SERVIÇOS E INVESTIMENTOS LDA       02       13   \n",
       "\n",
       "   Código Postal    Medida  Montante  \n",
       "0           9900  IV/B.1.8  34378,05  \n",
       "1           9900  IV/B.4.3  11480,35  \n",
       "2           9900     Total   45858,4  \n",
       "3           4640     III.6   3211,56  \n",
       "4           4640  IV/B.1.6   7002,61  "
      ]
     },
     "execution_count": 3,
     "metadata": {},
     "output_type": "execute_result"
    }
   ],
   "source": [
    "z = zipfile.ZipFile('FEAGA_FEADER_2014.zip')\n",
    "df = pd.read_csv(z.open('FEAGA_FEADER_2014.csv'), delimiter=';', encoding='latin1', skiprows=1)\n",
    "df.head()"
   ]
  },
  {
   "cell_type": "code",
   "execution_count": 4,
   "metadata": {
    "collapsed": false
   },
   "outputs": [
    {
     "data": {
      "text/html": [
       "<div>\n",
       "<table border=\"1\" class=\"dataframe\">\n",
       "  <thead>\n",
       "    <tr style=\"text-align: right;\">\n",
       "      <th></th>\n",
       "      <th>year</th>\n",
       "      <th>recipient_name</th>\n",
       "      <th>Distrito</th>\n",
       "      <th>Concelho</th>\n",
       "      <th>recipient_postcode</th>\n",
       "      <th>scheme</th>\n",
       "      <th>amount</th>\n",
       "    </tr>\n",
       "  </thead>\n",
       "  <tbody>\n",
       "    <tr>\n",
       "      <th>0</th>\n",
       "      <td>2014</td>\n",
       "      <td>\" O MORRO \" - FABRICAÇÃO DE QUEIJOS, LDA.</td>\n",
       "      <td>01</td>\n",
       "      <td>47</td>\n",
       "      <td>9900</td>\n",
       "      <td>IV/B.1.8</td>\n",
       "      <td>34378,05</td>\n",
       "    </tr>\n",
       "    <tr>\n",
       "      <th>1</th>\n",
       "      <td>2014</td>\n",
       "      <td>\" O MORRO \" - FABRICAÇÃO DE QUEIJOS, LDA.</td>\n",
       "      <td>01</td>\n",
       "      <td>47</td>\n",
       "      <td>9900</td>\n",
       "      <td>IV/B.4.3</td>\n",
       "      <td>11480,35</td>\n",
       "    </tr>\n",
       "    <tr>\n",
       "      <th>2</th>\n",
       "      <td>2014</td>\n",
       "      <td>\" O MORRO \" - FABRICAÇÃO DE QUEIJOS, LDA.</td>\n",
       "      <td>01</td>\n",
       "      <td>47</td>\n",
       "      <td>9900</td>\n",
       "      <td>Total</td>\n",
       "      <td>45858,4</td>\n",
       "    </tr>\n",
       "    <tr>\n",
       "      <th>3</th>\n",
       "      <td>2014</td>\n",
       "      <td>A &amp; D SERVIÇOS E INVESTIMENTOS LDA</td>\n",
       "      <td>02</td>\n",
       "      <td>13</td>\n",
       "      <td>4640</td>\n",
       "      <td>III.6</td>\n",
       "      <td>3211,56</td>\n",
       "    </tr>\n",
       "    <tr>\n",
       "      <th>4</th>\n",
       "      <td>2014</td>\n",
       "      <td>A &amp; D SERVIÇOS E INVESTIMENTOS LDA</td>\n",
       "      <td>02</td>\n",
       "      <td>13</td>\n",
       "      <td>4640</td>\n",
       "      <td>IV/B.1.6</td>\n",
       "      <td>7002,61</td>\n",
       "    </tr>\n",
       "  </tbody>\n",
       "</table>\n",
       "</div>"
      ],
      "text/plain": [
       "   year                             recipient_name Distrito Concelho  \\\n",
       "0  2014  \" O MORRO \" - FABRICAÇÃO DE QUEIJOS, LDA.       01       47   \n",
       "1  2014  \" O MORRO \" - FABRICAÇÃO DE QUEIJOS, LDA.       01       47   \n",
       "2  2014  \" O MORRO \" - FABRICAÇÃO DE QUEIJOS, LDA.       01       47   \n",
       "3  2014         A & D SERVIÇOS E INVESTIMENTOS LDA       02       13   \n",
       "4  2014         A & D SERVIÇOS E INVESTIMENTOS LDA       02       13   \n",
       "\n",
       "   recipient_postcode    scheme    amount  \n",
       "0                9900  IV/B.1.8  34378,05  \n",
       "1                9900  IV/B.4.3  11480,35  \n",
       "2                9900     Total   45858,4  \n",
       "3                4640     III.6   3211,56  \n",
       "4                4640  IV/B.1.6   7002,61  "
      ]
     },
     "execution_count": 4,
     "metadata": {},
     "output_type": "execute_result"
    }
   ],
   "source": [
    "df = df.rename(columns={\n",
    "        u'Exercício': 'year',\n",
    "        'Medida': 'scheme',\n",
    "        'Montante': 'amount',\n",
    "        u'Denominação': 'recipient_name',\n",
    "        u'Código Postal': 'recipient_postcode',\n",
    "    })\n",
    "df.head()"
   ]
  },
  {
   "cell_type": "code",
   "execution_count": 5,
   "metadata": {
    "collapsed": false
   },
   "outputs": [
    {
     "data": {
      "text/html": [
       "<div>\n",
       "<table border=\"1\" class=\"dataframe\">\n",
       "  <thead>\n",
       "    <tr style=\"text-align: right;\">\n",
       "      <th></th>\n",
       "      <th>year</th>\n",
       "      <th>recipient_name</th>\n",
       "      <th>Distrito</th>\n",
       "      <th>Concelho</th>\n",
       "      <th>recipient_postcode</th>\n",
       "      <th>scheme</th>\n",
       "      <th>amount</th>\n",
       "      <th>recipient_location</th>\n",
       "    </tr>\n",
       "  </thead>\n",
       "  <tbody>\n",
       "    <tr>\n",
       "      <th>0</th>\n",
       "      <td>2014</td>\n",
       "      <td>\" O MORRO \" - FABRICAÇÃO DE QUEIJOS, LDA.</td>\n",
       "      <td>01</td>\n",
       "      <td>47</td>\n",
       "      <td>9900</td>\n",
       "      <td>IV/B.1.8</td>\n",
       "      <td>34378.05</td>\n",
       "      <td>47, 01</td>\n",
       "    </tr>\n",
       "    <tr>\n",
       "      <th>1</th>\n",
       "      <td>2014</td>\n",
       "      <td>\" O MORRO \" - FABRICAÇÃO DE QUEIJOS, LDA.</td>\n",
       "      <td>01</td>\n",
       "      <td>47</td>\n",
       "      <td>9900</td>\n",
       "      <td>IV/B.4.3</td>\n",
       "      <td>11480.35</td>\n",
       "      <td>47, 01</td>\n",
       "    </tr>\n",
       "    <tr>\n",
       "      <th>2</th>\n",
       "      <td>2014</td>\n",
       "      <td>\" O MORRO \" - FABRICAÇÃO DE QUEIJOS, LDA.</td>\n",
       "      <td>01</td>\n",
       "      <td>47</td>\n",
       "      <td>9900</td>\n",
       "      <td>Total</td>\n",
       "      <td>45858.40</td>\n",
       "      <td>47, 01</td>\n",
       "    </tr>\n",
       "    <tr>\n",
       "      <th>3</th>\n",
       "      <td>2014</td>\n",
       "      <td>A &amp; D SERVIÇOS E INVESTIMENTOS LDA</td>\n",
       "      <td>02</td>\n",
       "      <td>13</td>\n",
       "      <td>4640</td>\n",
       "      <td>III.6</td>\n",
       "      <td>3211.56</td>\n",
       "      <td>13, 02</td>\n",
       "    </tr>\n",
       "    <tr>\n",
       "      <th>4</th>\n",
       "      <td>2014</td>\n",
       "      <td>A &amp; D SERVIÇOS E INVESTIMENTOS LDA</td>\n",
       "      <td>02</td>\n",
       "      <td>13</td>\n",
       "      <td>4640</td>\n",
       "      <td>IV/B.1.6</td>\n",
       "      <td>7002.61</td>\n",
       "      <td>13, 02</td>\n",
       "    </tr>\n",
       "  </tbody>\n",
       "</table>\n",
       "</div>"
      ],
      "text/plain": [
       "   year                             recipient_name Distrito Concelho  \\\n",
       "0  2014  \" O MORRO \" - FABRICAÇÃO DE QUEIJOS, LDA.       01       47   \n",
       "1  2014  \" O MORRO \" - FABRICAÇÃO DE QUEIJOS, LDA.       01       47   \n",
       "2  2014  \" O MORRO \" - FABRICAÇÃO DE QUEIJOS, LDA.       01       47   \n",
       "3  2014         A & D SERVIÇOS E INVESTIMENTOS LDA       02       13   \n",
       "4  2014         A & D SERVIÇOS E INVESTIMENTOS LDA       02       13   \n",
       "\n",
       "   recipient_postcode    scheme    amount recipient_location  \n",
       "0                9900  IV/B.1.8  34378.05             47, 01  \n",
       "1                9900  IV/B.4.3  11480.35             47, 01  \n",
       "2                9900     Total  45858.40             47, 01  \n",
       "3                4640     III.6   3211.56             13, 02  \n",
       "4                4640  IV/B.1.6   7002.61             13, 02  "
      ]
     },
     "execution_count": 5,
     "metadata": {},
     "output_type": "execute_result"
    }
   ],
   "source": [
    "df['recipient_location'] = df.apply(lambda x: u'%s, %s' % (x['Concelho'], x['Distrito']), 1)\n",
    "df['amount'] = pd.to_numeric(df['amount'].str.replace(',', '.'))\n",
    "df.head()"
   ]
  },
  {
   "cell_type": "code",
   "execution_count": 6,
   "metadata": {
    "collapsed": false
   },
   "outputs": [
    {
     "data": {
      "text/html": [
       "<div>\n",
       "<table border=\"1\" class=\"dataframe\">\n",
       "  <thead>\n",
       "    <tr style=\"text-align: right;\">\n",
       "      <th></th>\n",
       "      <th>year</th>\n",
       "      <th>recipient_name</th>\n",
       "      <th>recipient_postcode</th>\n",
       "      <th>scheme</th>\n",
       "      <th>amount</th>\n",
       "      <th>recipient_location</th>\n",
       "      <th>recipient_id</th>\n",
       "      <th>currency</th>\n",
       "      <th>country</th>\n",
       "    </tr>\n",
       "  </thead>\n",
       "  <tbody>\n",
       "    <tr>\n",
       "      <th>0</th>\n",
       "      <td>2014</td>\n",
       "      <td>\" O MORRO \" - FABRICAÇÃO DE QUEIJOS, LDA.</td>\n",
       "      <td>9900</td>\n",
       "      <td>IV/B.1.8</td>\n",
       "      <td>34378.05</td>\n",
       "      <td>47, 01</td>\n",
       "      <td>PT-9900-o-morro-fabricacao-de-queijos-lda</td>\n",
       "      <td>EUR</td>\n",
       "      <td>PT</td>\n",
       "    </tr>\n",
       "    <tr>\n",
       "      <th>1</th>\n",
       "      <td>2014</td>\n",
       "      <td>\" O MORRO \" - FABRICAÇÃO DE QUEIJOS, LDA.</td>\n",
       "      <td>9900</td>\n",
       "      <td>IV/B.4.3</td>\n",
       "      <td>11480.35</td>\n",
       "      <td>47, 01</td>\n",
       "      <td>PT-9900-o-morro-fabricacao-de-queijos-lda</td>\n",
       "      <td>EUR</td>\n",
       "      <td>PT</td>\n",
       "    </tr>\n",
       "    <tr>\n",
       "      <th>2</th>\n",
       "      <td>2014</td>\n",
       "      <td>\" O MORRO \" - FABRICAÇÃO DE QUEIJOS, LDA.</td>\n",
       "      <td>9900</td>\n",
       "      <td>Total</td>\n",
       "      <td>45858.40</td>\n",
       "      <td>47, 01</td>\n",
       "      <td>PT-9900-o-morro-fabricacao-de-queijos-lda</td>\n",
       "      <td>EUR</td>\n",
       "      <td>PT</td>\n",
       "    </tr>\n",
       "    <tr>\n",
       "      <th>3</th>\n",
       "      <td>2014</td>\n",
       "      <td>A &amp; D SERVIÇOS E INVESTIMENTOS LDA</td>\n",
       "      <td>4640</td>\n",
       "      <td>III.6</td>\n",
       "      <td>3211.56</td>\n",
       "      <td>13, 02</td>\n",
       "      <td>PT-4640-a-d-servicos-e-investimentos-lda</td>\n",
       "      <td>EUR</td>\n",
       "      <td>PT</td>\n",
       "    </tr>\n",
       "    <tr>\n",
       "      <th>4</th>\n",
       "      <td>2014</td>\n",
       "      <td>A &amp; D SERVIÇOS E INVESTIMENTOS LDA</td>\n",
       "      <td>4640</td>\n",
       "      <td>IV/B.1.6</td>\n",
       "      <td>7002.61</td>\n",
       "      <td>13, 02</td>\n",
       "      <td>PT-4640-a-d-servicos-e-investimentos-lda</td>\n",
       "      <td>EUR</td>\n",
       "      <td>PT</td>\n",
       "    </tr>\n",
       "  </tbody>\n",
       "</table>\n",
       "</div>"
      ],
      "text/plain": [
       "   year                             recipient_name  recipient_postcode  \\\n",
       "0  2014  \" O MORRO \" - FABRICAÇÃO DE QUEIJOS, LDA.                9900   \n",
       "1  2014  \" O MORRO \" - FABRICAÇÃO DE QUEIJOS, LDA.                9900   \n",
       "2  2014  \" O MORRO \" - FABRICAÇÃO DE QUEIJOS, LDA.                9900   \n",
       "3  2014         A & D SERVIÇOS E INVESTIMENTOS LDA                4640   \n",
       "4  2014         A & D SERVIÇOS E INVESTIMENTOS LDA                4640   \n",
       "\n",
       "     scheme    amount recipient_location  \\\n",
       "0  IV/B.1.8  34378.05             47, 01   \n",
       "1  IV/B.4.3  11480.35             47, 01   \n",
       "2     Total  45858.40             47, 01   \n",
       "3     III.6   3211.56             13, 02   \n",
       "4  IV/B.1.6   7002.61             13, 02   \n",
       "\n",
       "                                recipient_id currency country  \n",
       "0  PT-9900-o-morro-fabricacao-de-queijos-lda      EUR      PT  \n",
       "1  PT-9900-o-morro-fabricacao-de-queijos-lda      EUR      PT  \n",
       "2  PT-9900-o-morro-fabricacao-de-queijos-lda      EUR      PT  \n",
       "3   PT-4640-a-d-servicos-e-investimentos-lda      EUR      PT  \n",
       "4   PT-4640-a-d-servicos-e-investimentos-lda      EUR      PT  "
      ]
     },
     "execution_count": 6,
     "metadata": {},
     "output_type": "execute_result"
    }
   ],
   "source": [
    "from slugify import slugify\n",
    "df['recipient_id'] = df.apply(lambda x: 'PT-%s-%s' % (x['recipient_postcode'], slugify(x['recipient_name'])), 1)\n",
    "df = df.drop(['Distrito', 'Concelho'], 1)\n",
    "df['currency'] = 'EUR'\n",
    "df['country'] = 'PT'\n",
    "df.head()"
   ]
  },
  {
   "cell_type": "code",
   "execution_count": 7,
   "metadata": {
    "collapsed": false
   },
   "outputs": [
    {
     "data": {
      "text/plain": [
       "2014    654359\n",
       "Name: year, dtype: int64"
      ]
     },
     "execution_count": 7,
     "metadata": {},
     "output_type": "execute_result"
    }
   ],
   "source": [
    "df['year'].value_counts()"
   ]
  },
  {
   "cell_type": "code",
   "execution_count": 8,
   "metadata": {
    "collapsed": true
   },
   "outputs": [],
   "source": [
    "df.to_csv('pt_2014.csv', index=False, encoding='utf-8')"
   ]
  }
 ],
 "metadata": {
  "kernelspec": {
   "display_name": "Python 2",
   "language": "python",
   "name": "python2"
  },
  "language_info": {
   "codemirror_mode": {
    "name": "ipython",
    "version": 2
   },
   "file_extension": ".py",
   "mimetype": "text/x-python",
   "name": "python",
   "nbconvert_exporter": "python",
   "pygments_lexer": "ipython2",
   "version": "2.7.11"
  }
 },
 "nbformat": 4,
 "nbformat_minor": 0
}
